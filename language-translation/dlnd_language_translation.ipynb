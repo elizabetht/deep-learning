{
 "cells": [
  {
   "cell_type": "markdown",
   "metadata": {
    "collapsed": true,
    "deletable": true,
    "editable": true
   },
   "source": [
    "# Language Translation\n",
    "In this project, you’re going to take a peek into the realm of neural network machine translation.  You’ll be training a sequence to sequence model on a dataset of English and French sentences that can translate new sentences from English to French.\n",
    "## Get the Data\n",
    "Since translating the whole language of English to French will take lots of time to train, we have provided you with a small portion of the English corpus."
   ]
  },
  {
   "cell_type": "code",
   "execution_count": 1,
   "metadata": {
    "collapsed": false,
    "deletable": true,
    "editable": true
   },
   "outputs": [],
   "source": [
    "\"\"\"\n",
    "DON'T MODIFY ANYTHING IN THIS CELL\n",
    "\"\"\"\n",
    "import helper\n",
    "import problem_unittests as tests\n",
    "\n",
    "source_path = 'data/small_vocab_en'\n",
    "target_path = 'data/small_vocab_fr'\n",
    "source_text = helper.load_data(source_path)\n",
    "target_text = helper.load_data(target_path)"
   ]
  },
  {
   "cell_type": "markdown",
   "metadata": {
    "deletable": true,
    "editable": true
   },
   "source": [
    "## Explore the Data\n",
    "Play around with view_sentence_range to view different parts of the data."
   ]
  },
  {
   "cell_type": "code",
   "execution_count": 2,
   "metadata": {
    "collapsed": false,
    "deletable": true,
    "editable": true
   },
   "outputs": [
    {
     "name": "stdout",
     "output_type": "stream",
     "text": [
      "Dataset Stats\n",
      "Roughly the number of unique words: 227\n",
      "Number of sentences: 137861\n",
      "Average number of words in a sentence: 13.225277634719028\n",
      "\n",
      "English sentences 0 to 10:\n",
      "new jersey is sometimes quiet during autumn , and it is snowy in april .\n",
      "the united states is usually chilly during july , and it is usually freezing in november .\n",
      "california is usually quiet during march , and it is usually hot in june .\n",
      "the united states is sometimes mild during june , and it is cold in september .\n",
      "your least liked fruit is the grape , but my least liked is the apple .\n",
      "his favorite fruit is the orange , but my favorite is the grape .\n",
      "paris is relaxing during december , but it is usually chilly in july .\n",
      "new jersey is busy during spring , and it is never hot in march .\n",
      "our least liked fruit is the lemon , but my least liked is the grape .\n",
      "the united states is sometimes busy during january , and it is sometimes warm in november .\n",
      "\n",
      "French sentences 0 to 10:\n",
      "new jersey est parfois calme pendant l' automne , et il est neigeux en avril .\n",
      "les états-unis est généralement froid en juillet , et il gèle habituellement en novembre .\n",
      "california est généralement calme en mars , et il est généralement chaud en juin .\n",
      "les états-unis est parfois légère en juin , et il fait froid en septembre .\n",
      "votre moins aimé fruit est le raisin , mais mon moins aimé est la pomme .\n",
      "son fruit préféré est l'orange , mais mon préféré est le raisin .\n",
      "paris est relaxant en décembre , mais il est généralement froid en juillet .\n",
      "new jersey est occupé au printemps , et il est jamais chaude en mars .\n",
      "notre fruit est moins aimé le citron , mais mon moins aimé est le raisin .\n",
      "les états-unis est parfois occupé en janvier , et il est parfois chaud en novembre .\n"
     ]
    }
   ],
   "source": [
    "view_sentence_range = (0, 10)\n",
    "\n",
    "\"\"\"\n",
    "DON'T MODIFY ANYTHING IN THIS CELL\n",
    "\"\"\"\n",
    "import numpy as np\n",
    "\n",
    "print('Dataset Stats')\n",
    "print('Roughly the number of unique words: {}'.format(len({word: None for word in source_text.split()})))\n",
    "\n",
    "sentences = source_text.split('\\n')\n",
    "word_counts = [len(sentence.split()) for sentence in sentences]\n",
    "print('Number of sentences: {}'.format(len(sentences)))\n",
    "print('Average number of words in a sentence: {}'.format(np.average(word_counts)))\n",
    "\n",
    "print()\n",
    "print('English sentences {} to {}:'.format(*view_sentence_range))\n",
    "print('\\n'.join(source_text.split('\\n')[view_sentence_range[0]:view_sentence_range[1]]))\n",
    "print()\n",
    "print('French sentences {} to {}:'.format(*view_sentence_range))\n",
    "print('\\n'.join(target_text.split('\\n')[view_sentence_range[0]:view_sentence_range[1]]))"
   ]
  },
  {
   "cell_type": "markdown",
   "metadata": {
    "deletable": true,
    "editable": true
   },
   "source": [
    "## Implement Preprocessing Function\n",
    "### Text to Word Ids\n",
    "As you did with other RNNs, you must turn the text into a number so the computer can understand it. In the function `text_to_ids()`, you'll turn `source_text` and `target_text` from words to ids.  However, you need to add the `<EOS>` word id at the end of each sentence from `target_text`.  This will help the neural network predict when the sentence should end.\n",
    "\n",
    "You can get the `<EOS>` word id by doing:\n",
    "```python\n",
    "target_vocab_to_int['<EOS>']\n",
    "```\n",
    "You can get other word ids using `source_vocab_to_int` and `target_vocab_to_int`."
   ]
  },
  {
   "cell_type": "code",
   "execution_count": 3,
   "metadata": {
    "collapsed": false,
    "deletable": true,
    "editable": true
   },
   "outputs": [
    {
     "name": "stdout",
     "output_type": "stream",
     "text": [
      "Tests Passed\n"
     ]
    }
   ],
   "source": [
    "def text_to_ids(source_text, target_text, source_vocab_to_int, target_vocab_to_int):\n",
    "    \"\"\"\n",
    "    Convert source and target text to proper word ids\n",
    "    :param source_text: String that contains all the source text.\n",
    "    :param target_text: String that contains all the target text.\n",
    "    :param source_vocab_to_int: Dictionary to go from the source words to an id\n",
    "    :param target_vocab_to_int: Dictionary to go from the target words to an id\n",
    "    :return: A tuple of lists (source_id_text, target_id_text)\n",
    "    \"\"\"\n",
    "    source_id_text = []\n",
    "    target_id_text = []\n",
    "    for sentence in source_text.split('\\n'):\n",
    "        source_ids_words = [source_vocab_to_int[word] for word in sentence.split()]\n",
    "        source_id_text.append(source_ids_words)\n",
    "    for sentence in target_text.split('\\n'):\n",
    "        sentence = sentence + ' <EOS>'\n",
    "        target_ids_words = [target_vocab_to_int[word] for word in sentence.split()]\n",
    "        target_id_text.append(target_ids_words)\n",
    "\n",
    "    return source_id_text, target_id_text\n",
    "\n",
    "\"\"\"\n",
    "DON'T MODIFY ANYTHING IN THIS CELL THAT IS BELOW THIS LINE\n",
    "\"\"\"\n",
    "tests.test_text_to_ids(text_to_ids)"
   ]
  },
  {
   "cell_type": "markdown",
   "metadata": {
    "deletable": true,
    "editable": true
   },
   "source": [
    "### Preprocess all the data and save it\n",
    "Running the code cell below will preprocess all the data and save it to file."
   ]
  },
  {
   "cell_type": "code",
   "execution_count": 4,
   "metadata": {
    "collapsed": false,
    "deletable": true,
    "editable": true
   },
   "outputs": [],
   "source": [
    "\"\"\"\n",
    "DON'T MODIFY ANYTHING IN THIS CELL\n",
    "\"\"\"\n",
    "helper.preprocess_and_save_data(source_path, target_path, text_to_ids)"
   ]
  },
  {
   "cell_type": "markdown",
   "metadata": {
    "deletable": true,
    "editable": true
   },
   "source": [
    "# Check Point\n",
    "This is your first checkpoint. If you ever decide to come back to this notebook or have to restart the notebook, you can start from here. The preprocessed data has been saved to disk."
   ]
  },
  {
   "cell_type": "code",
   "execution_count": 5,
   "metadata": {
    "collapsed": false,
    "deletable": true,
    "editable": true
   },
   "outputs": [],
   "source": [
    "\"\"\"\n",
    "DON'T MODIFY ANYTHING IN THIS CELL\n",
    "\"\"\"\n",
    "import numpy as np\n",
    "import helper\n",
    "\n",
    "(source_int_text, target_int_text), (source_vocab_to_int, target_vocab_to_int), _ = helper.load_preprocess()"
   ]
  },
  {
   "cell_type": "markdown",
   "metadata": {
    "deletable": true,
    "editable": true
   },
   "source": [
    "### Check the Version of TensorFlow and Access to GPU\n",
    "This will check to make sure you have the correct version of TensorFlow and access to a GPU"
   ]
  },
  {
   "cell_type": "code",
   "execution_count": 6,
   "metadata": {
    "collapsed": false,
    "deletable": true,
    "editable": true
   },
   "outputs": [
    {
     "name": "stdout",
     "output_type": "stream",
     "text": [
      "TensorFlow Version: 1.0.0\n"
     ]
    },
    {
     "name": "stderr",
     "output_type": "stream",
     "text": [
      "/Users/swapna/anaconda/envs/python3_5/lib/python3.5/site-packages/ipykernel/__main__.py:14: UserWarning: No GPU found. Please use a GPU to train your neural network.\n"
     ]
    }
   ],
   "source": [
    "\"\"\"\n",
    "DON'T MODIFY ANYTHING IN THIS CELL\n",
    "\"\"\"\n",
    "from distutils.version import LooseVersion\n",
    "import warnings\n",
    "import tensorflow as tf\n",
    "\n",
    "# Check TensorFlow Version\n",
    "assert LooseVersion(tf.__version__) in [LooseVersion('1.0.0'), LooseVersion('1.0.1')], 'This project requires TensorFlow version 1.0  You are using {}'.format(tf.__version__)\n",
    "print('TensorFlow Version: {}'.format(tf.__version__))\n",
    "\n",
    "# Check for a GPU\n",
    "if not tf.test.gpu_device_name():\n",
    "    warnings.warn('No GPU found. Please use a GPU to train your neural network.')\n",
    "else:\n",
    "    print('Default GPU Device: {}'.format(tf.test.gpu_device_name()))"
   ]
  },
  {
   "cell_type": "markdown",
   "metadata": {
    "deletable": true,
    "editable": true
   },
   "source": [
    "## Build the Neural Network\n",
    "You'll build the components necessary to build a Sequence-to-Sequence model by implementing the following functions below:\n",
    "- `model_inputs`\n",
    "- `process_decoding_input`\n",
    "- `encoding_layer`\n",
    "- `decoding_layer_train`\n",
    "- `decoding_layer_infer`\n",
    "- `decoding_layer`\n",
    "- `seq2seq_model`\n",
    "\n",
    "### Input\n",
    "Implement the `model_inputs()` function to create TF Placeholders for the Neural Network. It should create the following placeholders:\n",
    "\n",
    "- Input text placeholder named \"input\" using the TF Placeholder name parameter with rank 2.\n",
    "- Targets placeholder with rank 2.\n",
    "- Learning rate placeholder with rank 0.\n",
    "- Keep probability placeholder named \"keep_prob\" using the TF Placeholder name parameter with rank 0.\n",
    "\n",
    "Return the placeholders in the following the tuple (Input, Targets, Learing Rate, Keep Probability)"
   ]
  },
  {
   "cell_type": "code",
   "execution_count": 7,
   "metadata": {
    "collapsed": false,
    "deletable": true,
    "editable": true
   },
   "outputs": [
    {
     "name": "stdout",
     "output_type": "stream",
     "text": [
      "Tests Passed\n"
     ]
    }
   ],
   "source": [
    "def model_inputs():\n",
    "    \"\"\"\n",
    "    Create TF Placeholders for input, targets, and learning rate.\n",
    "    :return: Tuple (input, targets, learning rate, keep probability)\n",
    "    \"\"\"\n",
    "    input_data = tf.placeholder(tf.int32, [None, None], name=\"input\")\n",
    "    targets = tf.placeholder(tf.int32, [None, None], name=\"targets\")\n",
    "    learning_rate = tf.placeholder(tf.float32, name=\"learning_rate\")\n",
    "    keep_prob = tf.placeholder(tf.float32, name=\"keep_prob\")\n",
    "    return input_data, targets, learning_rate, keep_prob\n",
    "\n",
    "\"\"\"\n",
    "DON'T MODIFY ANYTHING IN THIS CELL THAT IS BELOW THIS LINE\n",
    "\"\"\"\n",
    "tests.test_model_inputs(model_inputs)"
   ]
  },
  {
   "cell_type": "markdown",
   "metadata": {
    "deletable": true,
    "editable": true
   },
   "source": [
    "### Process Decoding Input\n",
    "Implement `process_decoding_input` using TensorFlow to remove the last word id from each batch in `target_data` and concat the GO ID to the beginning of each batch."
   ]
  },
  {
   "cell_type": "code",
   "execution_count": 8,
   "metadata": {
    "collapsed": false,
    "deletable": true,
    "editable": true
   },
   "outputs": [
    {
     "name": "stdout",
     "output_type": "stream",
     "text": [
      "Tests Passed\n"
     ]
    }
   ],
   "source": [
    "def process_decoding_input(target_data, target_vocab_to_int, batch_size):\n",
    "    \"\"\"\n",
    "    Preprocess target data for dencoding\n",
    "    :param target_data: Target Placehoder\n",
    "    :param target_vocab_to_int: Dictionary to go from the target words to an id\n",
    "    :param batch_size: Batch Size\n",
    "    :return: Preprocessed target data\n",
    "    \"\"\"\n",
    "    ending = tf.strided_slice(target_data, [0, 0], [batch_size, -1], [1, 1])\n",
    "    dec_input = tf.concat([tf.fill([batch_size, 1], target_vocab_to_int['<GO>']), ending], 1)\n",
    "    return dec_input\n",
    "\n",
    "\"\"\"\n",
    "DON'T MODIFY ANYTHING IN THIS CELL THAT IS BELOW THIS LINE\n",
    "\"\"\"\n",
    "tests.test_process_decoding_input(process_decoding_input)"
   ]
  },
  {
   "cell_type": "markdown",
   "metadata": {
    "deletable": true,
    "editable": true
   },
   "source": [
    "### Encoding\n",
    "Implement `encoding_layer()` to create a Encoder RNN layer using [`tf.nn.dynamic_rnn()`](https://www.tensorflow.org/api_docs/python/tf/nn/dynamic_rnn)."
   ]
  },
  {
   "cell_type": "code",
   "execution_count": 9,
   "metadata": {
    "collapsed": false,
    "deletable": true,
    "editable": true
   },
   "outputs": [
    {
     "name": "stdout",
     "output_type": "stream",
     "text": [
      "Tests Passed\n"
     ]
    }
   ],
   "source": [
    "def encoding_layer(rnn_inputs, rnn_size, num_layers, keep_prob):\n",
    "    \"\"\"\n",
    "    Create encoding layer\n",
    "    :param rnn_inputs: Inputs for the RNN\n",
    "    :param rnn_size: RNN Size\n",
    "    :param num_layers: Number of layers\n",
    "    :param keep_prob: Dropout keep probability\n",
    "    :return: RNN state\n",
    "    \"\"\"\n",
    "\n",
    "    # Encoder\n",
    "    enc_cell = tf.contrib.rnn.MultiRNNCell([tf.contrib.rnn.BasicLSTMCell(rnn_size)] * num_layers)\n",
    "    _, enc_state = tf.nn.dynamic_rnn(tf.contrib.rnn.DropoutWrapper(enc_cell, output_keep_prob=keep_prob), rnn_inputs, dtype=tf.float32)\n",
    "    return enc_state\n",
    "\n",
    "\"\"\"\n",
    "DON'T MODIFY ANYTHING IN THIS CELL THAT IS BELOW THIS LINE\n",
    "\"\"\"\n",
    "tests.test_encoding_layer(encoding_layer)"
   ]
  },
  {
   "cell_type": "markdown",
   "metadata": {
    "deletable": true,
    "editable": true
   },
   "source": [
    "### Decoding - Training\n",
    "Create training logits using [`tf.contrib.seq2seq.simple_decoder_fn_train()`](https://www.tensorflow.org/api_docs/python/tf/contrib/seq2seq/simple_decoder_fn_train) and [`tf.contrib.seq2seq.dynamic_rnn_decoder()`](https://www.tensorflow.org/api_docs/python/tf/contrib/seq2seq/dynamic_rnn_decoder).  Apply the `output_fn` to the [`tf.contrib.seq2seq.dynamic_rnn_decoder()`](https://www.tensorflow.org/api_docs/python/tf/contrib/seq2seq/dynamic_rnn_decoder) outputs."
   ]
  },
  {
   "cell_type": "code",
   "execution_count": 46,
   "metadata": {
    "collapsed": false,
    "deletable": true,
    "editable": true
   },
   "outputs": [
    {
     "name": "stdout",
     "output_type": "stream",
     "text": [
      "Tests Passed\n"
     ]
    }
   ],
   "source": [
    "def decoding_layer_train(encoder_state, dec_cell, dec_embed_input, sequence_length, decoding_scope,\n",
    "                         output_fn, keep_prob):\n",
    "    \"\"\"\n",
    "    Create a decoding layer for training\n",
    "    :param encoder_state: Encoder State\n",
    "    :param dec_cell: Decoder RNN Cell\n",
    "    :param dec_embed_input: Decoder embedded input\n",
    "    :param sequence_length: Sequence Length\n",
    "    :param decoding_scope: TenorFlow Variable Scope for decoding\n",
    "    :param output_fn: Function to apply the output layer\n",
    "    :param keep_prob: Dropout keep probability\n",
    "    :return: Train Logits\n",
    "    \"\"\"\n",
    "    train_decoder_fn = tf.contrib.seq2seq.simple_decoder_fn_train(encoder_state)\n",
    "    train_pred, _, _ = tf.contrib.seq2seq.dynamic_rnn_decoder(tf.contrib.rnn.DropoutWrapper(dec_cell, output_keep_prob=keep_prob), train_decoder_fn, dec_embed_input, sequence_length, scope=decoding_scope)\n",
    "    # Apply output function\n",
    "    train_logits =  output_fn(train_pred)\n",
    "    return train_logits\n",
    "\n",
    "\n",
    "\"\"\"\n",
    "DON'T MODIFY ANYTHING IN THIS CELL THAT IS BELOW THIS LINE\n",
    "\"\"\"\n",
    "tests.test_decoding_layer_train(decoding_layer_train)"
   ]
  },
  {
   "cell_type": "markdown",
   "metadata": {
    "deletable": true,
    "editable": true
   },
   "source": [
    "### Decoding - Inference\n",
    "Create inference logits using [`tf.contrib.seq2seq.simple_decoder_fn_inference()`](https://www.tensorflow.org/api_docs/python/tf/contrib/seq2seq/simple_decoder_fn_inference) and [`tf.contrib.seq2seq.dynamic_rnn_decoder()`](https://www.tensorflow.org/api_docs/python/tf/contrib/seq2seq/dynamic_rnn_decoder). "
   ]
  },
  {
   "cell_type": "code",
   "execution_count": 47,
   "metadata": {
    "collapsed": false,
    "deletable": true,
    "editable": true
   },
   "outputs": [
    {
     "name": "stdout",
     "output_type": "stream",
     "text": [
      "Tests Passed\n"
     ]
    }
   ],
   "source": [
    "def decoding_layer_infer(encoder_state, dec_cell, dec_embeddings, start_of_sequence_id, end_of_sequence_id,\n",
    "                         maximum_length, vocab_size, decoding_scope, output_fn, keep_prob):\n",
    "    \"\"\"\n",
    "    Create a decoding layer for inference\n",
    "    :param encoder_state: Encoder state\n",
    "    :param dec_cell: Decoder RNN Cell\n",
    "    :param dec_embeddings: Decoder embeddings\n",
    "    :param start_of_sequence_id: GO ID\n",
    "    :param end_of_sequence_id: EOS Id\n",
    "    :param maximum_length: The maximum allowed time steps to decode\n",
    "    :param vocab_size: Size of vocabulary\n",
    "    :param decoding_scope: TensorFlow Variable Scope for decoding\n",
    "    :param output_fn: Function to apply the output layer\n",
    "    :param keep_prob: Dropout keep probability\n",
    "    :return: Inference Logits\n",
    "    \"\"\"\n",
    "    infer_decoder_fn = tf.contrib.seq2seq.simple_decoder_fn_inference(\n",
    "    output_fn, encoder_state, dec_embeddings, start_of_sequence_id, end_of_sequence_id, \n",
    "    maximum_length - 1, vocab_size)\n",
    "    inference_logits, _, _ = tf.contrib.seq2seq.dynamic_rnn_decoder(tf.contrib.rnn.DropoutWrapper(dec_cell, output_keep_prob=keep_prob), infer_decoder_fn, scope=decoding_scope)\n",
    "    return inference_logits\n",
    "\n",
    "\n",
    "\"\"\"\n",
    "DON'T MODIFY ANYTHING IN THIS CELL THAT IS BELOW THIS LINE\n",
    "\"\"\"\n",
    "tests.test_decoding_layer_infer(decoding_layer_infer)"
   ]
  },
  {
   "cell_type": "markdown",
   "metadata": {
    "deletable": true,
    "editable": true
   },
   "source": [
    "### Build the Decoding Layer\n",
    "Implement `decoding_layer()` to create a Decoder RNN layer.\n",
    "\n",
    "- Create RNN cell for decoding using `rnn_size` and `num_layers`.\n",
    "- Create the output fuction using [`lambda`](https://docs.python.org/3/tutorial/controlflow.html#lambda-expressions) to transform it's input, logits, to class logits.\n",
    "- Use the your `decoding_layer_train(encoder_state, dec_cell, dec_embed_input, sequence_length, decoding_scope, output_fn, keep_prob)` function to get the training logits.\n",
    "- Use your `decoding_layer_infer(encoder_state, dec_cell, dec_embeddings, start_of_sequence_id, end_of_sequence_id, maximum_length, vocab_size, decoding_scope, output_fn, keep_prob)` function to get the inference logits.\n",
    "\n",
    "Note: You'll need to use [tf.variable_scope](https://www.tensorflow.org/api_docs/python/tf/variable_scope) to share variables between training and inference."
   ]
  },
  {
   "cell_type": "code",
   "execution_count": 48,
   "metadata": {
    "collapsed": false,
    "deletable": true,
    "editable": true
   },
   "outputs": [
    {
     "name": "stdout",
     "output_type": "stream",
     "text": [
      "Tests Passed\n"
     ]
    }
   ],
   "source": [
    "def decoding_layer(dec_embed_input, dec_embeddings, encoder_state, vocab_size, sequence_length, rnn_size,\n",
    "                   num_layers, target_vocab_to_int, keep_prob):\n",
    "    \"\"\"\n",
    "    Create decoding layer\n",
    "    :param dec_embed_input: Decoder embedded input\n",
    "    :param dec_embeddings: Decoder embeddings\n",
    "    :param encoder_state: The encoded state\n",
    "    :param vocab_size: Size of vocabulary\n",
    "    :param sequence_length: Sequence Length\n",
    "    :param rnn_size: RNN Size\n",
    "    :param num_layers: Number of layers\n",
    "    :param target_vocab_to_int: Dictionary to go from the target words to an id\n",
    "    :param keep_prob: Dropout keep probability\n",
    "    :return: Tuple of (Training Logits, Inference Logits)\n",
    "    \"\"\"\n",
    "    # TODO: Implement Function\n",
    "    start_of_sequence_id = target_vocab_to_int['<GO>']\n",
    "    end_of_sequence_id = target_vocab_to_int['<EOS>']\n",
    "    \n",
    "    cell = tf.contrib.rnn.MultiRNNCell([tf.contrib.rnn.DropoutWrapper(tf.contrib.rnn.BasicLSTMCell(rnn_size), output_keep_prob=keep_prob)] * num_layers)\n",
    "    \n",
    "    with tf.variable_scope(\"decoding\") as decoding_scope:\n",
    "        output_fn = lambda logits: tf.contrib.layers.fully_connected(logits, vocab_size, None, scope=decoding_scope)\n",
    "        train_logits = decoding_layer_train(encoder_state, cell, dec_embed_input, sequence_length, \n",
    "                                            decoding_scope, output_fn, keep_prob)\n",
    "\n",
    "    with tf.variable_scope(\"decoding\", reuse=True) as infer_scope:\n",
    "        infer_logits = decoding_layer_infer(encoder_state, cell, dec_embeddings, start_of_sequence_id, \n",
    "                                            end_of_sequence_id, sequence_length, vocab_size, infer_scope, \n",
    "                                            output_fn, keep_prob)\n",
    "    return train_logits, infer_logits\n",
    "\n",
    "\n",
    "\"\"\"\n",
    "DON'T MODIFY ANYTHING IN THIS CELL THAT IS BELOW THIS LINE\n",
    "\"\"\"\n",
    "tests.test_decoding_layer(decoding_layer)"
   ]
  },
  {
   "cell_type": "markdown",
   "metadata": {
    "deletable": true,
    "editable": true
   },
   "source": [
    "### Build the Neural Network\n",
    "Apply the functions you implemented above to:\n",
    "\n",
    "- Apply embedding to the input data for the encoder.\n",
    "- Encode the input using your `encoding_layer(rnn_inputs, rnn_size, num_layers, keep_prob)`.\n",
    "- Process target data using your `process_decoding_input(target_data, target_vocab_to_int, batch_size)` function.\n",
    "- Apply embedding to the target data for the decoder.\n",
    "- Decode the encoded input using your `decoding_layer(dec_embed_input, dec_embeddings, encoder_state, vocab_size, sequence_length, rnn_size, num_layers, target_vocab_to_int, keep_prob)`."
   ]
  },
  {
   "cell_type": "code",
   "execution_count": 55,
   "metadata": {
    "collapsed": false,
    "deletable": true,
    "editable": true
   },
   "outputs": [
    {
     "name": "stdout",
     "output_type": "stream",
     "text": [
      "Tests Passed\n"
     ]
    }
   ],
   "source": [
    "def seq2seq_model(input_data, target_data, keep_prob, batch_size, sequence_length, source_vocab_size, target_vocab_size,\n",
    "                  enc_embedding_size, dec_embedding_size, rnn_size, num_layers, target_vocab_to_int):\n",
    "    \"\"\"\n",
    "    Build the Sequence-to-Sequence part of the neural network\n",
    "    :param input_data: Input placeholder\n",
    "    :param target_data: Target placeholder\n",
    "    :param keep_prob: Dropout keep probability placeholder\n",
    "    :param batch_size: Batch Size\n",
    "    :param sequence_length: Sequence Length\n",
    "    :param source_vocab_size: Source vocabulary size\n",
    "    :param target_vocab_size: Target vocabulary size\n",
    "    :param enc_embedding_size: Decoder embedding size\n",
    "    :param dec_embedding_size: Encoder embedding size\n",
    "    :param rnn_size: RNN Size\n",
    "    :param num_layers: Number of layers\n",
    "    :param target_vocab_to_int: Dictionary to go from the target words to an id\n",
    "    :return: Tuple of (Training Logits, Inference Logits)\n",
    "    \"\"\"\n",
    "    # Encoder embedding\n",
    "    enc_embed_input = tf.contrib.layers.embed_sequence(input_data, source_vocab_size, enc_embedding_size)\n",
    "    encoder_state = encoding_layer(enc_embed_input, rnn_size, num_layers, keep_prob)\n",
    "    dec_input = process_decoding_input(target_data, target_vocab_to_int, batch_size)\n",
    "    \n",
    "    # Decoder Embedding\n",
    "    dec_embeddings = tf.Variable(tf.random_uniform([target_vocab_size, dec_embedding_size]))\n",
    "    dec_embed_input = tf.nn.embedding_lookup(dec_embeddings, dec_input)\n",
    "    \n",
    "    train_logits, infer_logits = decoding_layer(dec_embed_input, dec_embeddings, encoder_state, target_vocab_size, sequence_length, rnn_size, num_layers, target_vocab_to_int, keep_prob)\n",
    "    return train_logits, infer_logits\n",
    "\n",
    "\n",
    "\"\"\"\n",
    "DON'T MODIFY ANYTHING IN THIS CELL THAT IS BELOW THIS LINE\n",
    "\"\"\"\n",
    "tests.test_seq2seq_model(seq2seq_model)"
   ]
  },
  {
   "cell_type": "markdown",
   "metadata": {
    "deletable": true,
    "editable": true
   },
   "source": [
    "## Neural Network Training\n",
    "### Hyperparameters\n",
    "Tune the following parameters:\n",
    "\n",
    "- Set `epochs` to the number of epochs.\n",
    "- Set `batch_size` to the batch size.\n",
    "- Set `rnn_size` to the size of the RNNs.\n",
    "- Set `num_layers` to the number of layers.\n",
    "- Set `encoding_embedding_size` to the size of the embedding for the encoder.\n",
    "- Set `decoding_embedding_size` to the size of the embedding for the decoder.\n",
    "- Set `learning_rate` to the learning rate.\n",
    "- Set `keep_probability` to the Dropout keep probability"
   ]
  },
  {
   "cell_type": "code",
   "execution_count": 56,
   "metadata": {
    "collapsed": true,
    "deletable": true,
    "editable": true
   },
   "outputs": [],
   "source": [
    "# Number of Epochs\n",
    "epochs = 60\n",
    "# Batch Size\n",
    "batch_size = 128\n",
    "# RNN Size\n",
    "rnn_size = 128\n",
    "# Number of Layers\n",
    "num_layers = 2\n",
    "# Embedding Size\n",
    "encoding_embedding_size = 227\n",
    "decoding_embedding_size = 227\n",
    "# Learning Rate\n",
    "learning_rate = 0.01\n",
    "# Dropout Keep Probability\n",
    "keep_probability = 0.5"
   ]
  },
  {
   "cell_type": "markdown",
   "metadata": {
    "deletable": true,
    "editable": true
   },
   "source": [
    "### Build the Graph\n",
    "Build the graph using the neural network you implemented."
   ]
  },
  {
   "cell_type": "code",
   "execution_count": 57,
   "metadata": {
    "collapsed": false,
    "deletable": true,
    "editable": true
   },
   "outputs": [],
   "source": [
    "\"\"\"\n",
    "DON'T MODIFY ANYTHING IN THIS CELL\n",
    "\"\"\"\n",
    "save_path = 'checkpoints/dev'\n",
    "(source_int_text, target_int_text), (source_vocab_to_int, target_vocab_to_int), _ = helper.load_preprocess()\n",
    "max_source_sentence_length = max([len(sentence) for sentence in source_int_text])\n",
    "\n",
    "train_graph = tf.Graph()\n",
    "with train_graph.as_default():\n",
    "    input_data, targets, lr, keep_prob = model_inputs()\n",
    "    sequence_length = tf.placeholder_with_default(max_source_sentence_length, None, name='sequence_length')\n",
    "    input_shape = tf.shape(input_data)\n",
    "    \n",
    "    train_logits, inference_logits = seq2seq_model(\n",
    "        tf.reverse(input_data, [-1]), targets, keep_prob, batch_size, sequence_length, len(source_vocab_to_int), len(target_vocab_to_int),\n",
    "        encoding_embedding_size, decoding_embedding_size, rnn_size, num_layers, target_vocab_to_int)\n",
    "\n",
    "    tf.identity(inference_logits, 'logits')\n",
    "    with tf.name_scope(\"optimization\"):\n",
    "        # Loss function\n",
    "        cost = tf.contrib.seq2seq.sequence_loss(\n",
    "            train_logits,\n",
    "            targets,\n",
    "            tf.ones([input_shape[0], sequence_length]))\n",
    "\n",
    "        # Optimizer\n",
    "        optimizer = tf.train.AdamOptimizer(lr)\n",
    "\n",
    "        # Gradient Clipping\n",
    "        gradients = optimizer.compute_gradients(cost)\n",
    "        capped_gradients = [(tf.clip_by_value(grad, -1., 1.), var) for grad, var in gradients if grad is not None]\n",
    "        train_op = optimizer.apply_gradients(capped_gradients)"
   ]
  },
  {
   "cell_type": "markdown",
   "metadata": {
    "deletable": true,
    "editable": true
   },
   "source": [
    "### Train\n",
    "Train the neural network on the preprocessed data. If you have a hard time getting a good loss, check the forms to see if anyone is having the same problem."
   ]
  },
  {
   "cell_type": "code",
   "execution_count": null,
   "metadata": {
    "collapsed": false,
    "deletable": true,
    "editable": true,
    "scrolled": true
   },
   "outputs": [
    {
     "name": "stdout",
     "output_type": "stream",
     "text": [
      "Epoch   0 Batch    0/1077 - Train Accuracy:  0.294, Validation Accuracy:  0.305, Loss:  5.937\n",
      "Epoch   0 Batch    1/1077 - Train Accuracy:  0.221, Validation Accuracy:  0.305, Loss:  5.185\n",
      "Epoch   0 Batch    2/1077 - Train Accuracy:  0.225, Validation Accuracy:  0.319, Loss:  4.604\n",
      "Epoch   0 Batch    3/1077 - Train Accuracy:  0.250, Validation Accuracy:  0.319, Loss:  4.118\n",
      "Epoch   0 Batch    4/1077 - Train Accuracy:  0.262, Validation Accuracy:  0.336, Loss:  3.940\n",
      "Epoch   0 Batch    5/1077 - Train Accuracy:  0.296, Validation Accuracy:  0.337, Loss:  3.669\n",
      "Epoch   0 Batch    6/1077 - Train Accuracy:  0.279, Validation Accuracy:  0.337, Loss:  3.619\n",
      "Epoch   0 Batch    7/1077 - Train Accuracy:  0.265, Validation Accuracy:  0.341, Loss:  3.630\n",
      "Epoch   0 Batch    8/1077 - Train Accuracy:  0.305, Validation Accuracy:  0.367, Loss:  3.567\n",
      "Epoch   0 Batch    9/1077 - Train Accuracy:  0.317, Validation Accuracy:  0.371, Loss:  3.425\n",
      "Epoch   0 Batch   10/1077 - Train Accuracy:  0.280, Validation Accuracy:  0.372, Loss:  3.534\n",
      "Epoch   0 Batch   11/1077 - Train Accuracy:  0.334, Validation Accuracy:  0.373, Loss:  3.238\n",
      "Epoch   0 Batch   12/1077 - Train Accuracy:  0.311, Validation Accuracy:  0.371, Loss:  3.311\n",
      "Epoch   0 Batch   13/1077 - Train Accuracy:  0.357, Validation Accuracy:  0.372, Loss:  3.081\n",
      "Epoch   0 Batch   14/1077 - Train Accuracy:  0.337, Validation Accuracy:  0.375, Loss:  3.039\n",
      "Epoch   0 Batch   15/1077 - Train Accuracy:  0.343, Validation Accuracy:  0.397, Loss:  3.130\n",
      "Epoch   0 Batch   16/1077 - Train Accuracy:  0.367, Validation Accuracy:  0.406, Loss:  3.076\n",
      "Epoch   0 Batch   17/1077 - Train Accuracy:  0.368, Validation Accuracy:  0.410, Loss:  3.010\n",
      "Epoch   0 Batch   18/1077 - Train Accuracy:  0.349, Validation Accuracy:  0.407, Loss:  3.043\n",
      "Epoch   0 Batch   19/1077 - Train Accuracy:  0.359, Validation Accuracy:  0.406, Loss:  2.914\n",
      "Epoch   0 Batch   20/1077 - Train Accuracy:  0.346, Validation Accuracy:  0.404, Loss:  2.885\n",
      "Epoch   0 Batch   21/1077 - Train Accuracy:  0.333, Validation Accuracy:  0.409, Loss:  2.946\n",
      "Epoch   0 Batch   22/1077 - Train Accuracy:  0.359, Validation Accuracy:  0.423, Loss:  2.898\n",
      "Epoch   0 Batch   23/1077 - Train Accuracy:  0.373, Validation Accuracy:  0.426, Loss:  2.874\n",
      "Epoch   0 Batch   24/1077 - Train Accuracy:  0.386, Validation Accuracy:  0.435, Loss:  2.789\n",
      "Epoch   0 Batch   25/1077 - Train Accuracy:  0.382, Validation Accuracy:  0.444, Loss:  2.843\n",
      "Epoch   0 Batch   26/1077 - Train Accuracy:  0.371, Validation Accuracy:  0.439, Loss:  2.804\n",
      "Epoch   0 Batch   27/1077 - Train Accuracy:  0.427, Validation Accuracy:  0.445, Loss:  2.513\n",
      "Epoch   0 Batch   28/1077 - Train Accuracy:  0.420, Validation Accuracy:  0.459, Loss:  2.636\n",
      "Epoch   0 Batch   29/1077 - Train Accuracy:  0.416, Validation Accuracy:  0.461, Loss:  2.623\n",
      "Epoch   0 Batch   30/1077 - Train Accuracy:  0.402, Validation Accuracy:  0.460, Loss:  2.633\n",
      "Epoch   0 Batch   31/1077 - Train Accuracy:  0.416, Validation Accuracy:  0.470, Loss:  2.671\n",
      "Epoch   0 Batch   32/1077 - Train Accuracy:  0.464, Validation Accuracy:  0.467, Loss:  2.408\n",
      "Epoch   0 Batch   33/1077 - Train Accuracy:  0.452, Validation Accuracy:  0.476, Loss:  2.453\n",
      "Epoch   0 Batch   34/1077 - Train Accuracy:  0.435, Validation Accuracy:  0.484, Loss:  2.513\n",
      "Epoch   0 Batch   35/1077 - Train Accuracy:  0.434, Validation Accuracy:  0.483, Loss:  2.524\n",
      "Epoch   0 Batch   36/1077 - Train Accuracy:  0.446, Validation Accuracy:  0.491, Loss:  2.467\n",
      "Epoch   0 Batch   37/1077 - Train Accuracy:  0.461, Validation Accuracy:  0.496, Loss:  2.520\n",
      "Epoch   0 Batch   38/1077 - Train Accuracy:  0.409, Validation Accuracy:  0.503, Loss:  2.659\n",
      "Epoch   0 Batch   39/1077 - Train Accuracy:  0.430, Validation Accuracy:  0.491, Loss:  2.504\n",
      "Epoch   0 Batch   40/1077 - Train Accuracy:  0.436, Validation Accuracy:  0.491, Loss:  2.428\n",
      "Epoch   0 Batch   41/1077 - Train Accuracy:  0.461, Validation Accuracy:  0.512, Loss:  2.353\n",
      "Epoch   0 Batch   42/1077 - Train Accuracy:  0.431, Validation Accuracy:  0.485, Loss:  2.391\n",
      "Epoch   0 Batch   43/1077 - Train Accuracy:  0.444, Validation Accuracy:  0.501, Loss:  2.407\n",
      "Epoch   0 Batch   44/1077 - Train Accuracy:  0.428, Validation Accuracy:  0.516, Loss:  2.526\n",
      "Epoch   0 Batch   45/1077 - Train Accuracy:  0.410, Validation Accuracy:  0.474, Loss:  2.356\n",
      "Epoch   0 Batch   46/1077 - Train Accuracy:  0.456, Validation Accuracy:  0.522, Loss:  2.410\n",
      "Epoch   0 Batch   47/1077 - Train Accuracy:  0.488, Validation Accuracy:  0.521, Loss:  2.240\n",
      "Epoch   0 Batch   48/1077 - Train Accuracy:  0.474, Validation Accuracy:  0.524, Loss:  2.310\n",
      "Epoch   0 Batch   49/1077 - Train Accuracy:  0.420, Validation Accuracy:  0.471, Loss:  2.259\n",
      "Epoch   0 Batch   50/1077 - Train Accuracy:  0.445, Validation Accuracy:  0.516, Loss:  2.330\n",
      "Epoch   0 Batch   51/1077 - Train Accuracy:  0.479, Validation Accuracy:  0.522, Loss:  2.154\n",
      "Epoch   0 Batch   52/1077 - Train Accuracy:  0.457, Validation Accuracy:  0.499, Loss:  2.265\n",
      "Epoch   0 Batch   53/1077 - Train Accuracy:  0.470, Validation Accuracy:  0.497, Loss:  2.120\n",
      "Epoch   0 Batch   54/1077 - Train Accuracy:  0.429, Validation Accuracy:  0.509, Loss:  2.304\n",
      "Epoch   0 Batch   55/1077 - Train Accuracy:  0.512, Validation Accuracy:  0.520, Loss:  2.061\n",
      "Epoch   0 Batch   56/1077 - Train Accuracy:  0.469, Validation Accuracy:  0.521, Loss:  2.112\n",
      "Epoch   0 Batch   57/1077 - Train Accuracy:  0.515, Validation Accuracy:  0.497, Loss:  1.867\n",
      "Epoch   0 Batch   58/1077 - Train Accuracy:  0.470, Validation Accuracy:  0.520, Loss:  2.074\n",
      "Epoch   0 Batch   59/1077 - Train Accuracy:  0.440, Validation Accuracy:  0.518, Loss:  2.150\n",
      "Epoch   0 Batch   60/1077 - Train Accuracy:  0.459, Validation Accuracy:  0.500, Loss:  1.969\n",
      "Epoch   0 Batch   61/1077 - Train Accuracy:  0.430, Validation Accuracy:  0.473, Loss:  1.956\n",
      "Epoch   0 Batch   62/1077 - Train Accuracy:  0.456, Validation Accuracy:  0.526, Loss:  2.065\n",
      "Epoch   0 Batch   63/1077 - Train Accuracy:  0.511, Validation Accuracy:  0.523, Loss:  1.854\n",
      "Epoch   0 Batch   64/1077 - Train Accuracy:  0.454, Validation Accuracy:  0.504, Loss:  1.943\n",
      "Epoch   0 Batch   65/1077 - Train Accuracy:  0.427, Validation Accuracy:  0.493, Loss:  1.994\n",
      "Epoch   0 Batch   66/1077 - Train Accuracy:  0.476, Validation Accuracy:  0.516, Loss:  1.838\n",
      "Epoch   0 Batch   67/1077 - Train Accuracy:  0.529, Validation Accuracy:  0.541, Loss:  1.774\n",
      "Epoch   0 Batch   68/1077 - Train Accuracy:  0.465, Validation Accuracy:  0.526, Loss:  1.852\n",
      "Epoch   0 Batch   69/1077 - Train Accuracy:  0.473, Validation Accuracy:  0.511, Loss:  1.802\n",
      "Epoch   0 Batch   70/1077 - Train Accuracy:  0.445, Validation Accuracy:  0.507, Loss:  1.829\n",
      "Epoch   0 Batch   71/1077 - Train Accuracy:  0.429, Validation Accuracy:  0.498, Loss:  1.721\n",
      "Epoch   0 Batch   72/1077 - Train Accuracy:  0.438, Validation Accuracy:  0.498, Loss:  1.714\n",
      "Epoch   0 Batch   73/1077 - Train Accuracy:  0.446, Validation Accuracy:  0.507, Loss:  1.707\n",
      "Epoch   0 Batch   74/1077 - Train Accuracy:  0.504, Validation Accuracy:  0.526, Loss:  1.582\n",
      "Epoch   0 Batch   75/1077 - Train Accuracy:  0.496, Validation Accuracy:  0.526, Loss:  1.577\n",
      "Epoch   0 Batch   76/1077 - Train Accuracy:  0.475, Validation Accuracy:  0.526, Loss:  1.589\n",
      "Epoch   0 Batch   77/1077 - Train Accuracy:  0.466, Validation Accuracy:  0.520, Loss:  1.596\n",
      "Epoch   0 Batch   78/1077 - Train Accuracy:  0.384, Validation Accuracy:  0.479, Loss:  1.601\n",
      "Epoch   0 Batch   79/1077 - Train Accuracy:  0.405, Validation Accuracy:  0.457, Loss:  1.598\n",
      "Epoch   0 Batch   80/1077 - Train Accuracy:  0.380, Validation Accuracy:  0.444, Loss:  1.516\n",
      "Epoch   0 Batch   81/1077 - Train Accuracy:  0.402, Validation Accuracy:  0.440, Loss:  1.497\n",
      "Epoch   0 Batch   82/1077 - Train Accuracy:  0.462, Validation Accuracy:  0.442, Loss:  1.326\n",
      "Epoch   0 Batch   83/1077 - Train Accuracy:  0.377, Validation Accuracy:  0.442, Loss:  1.586\n",
      "Epoch   0 Batch   84/1077 - Train Accuracy:  0.396, Validation Accuracy:  0.452, Loss:  1.429\n",
      "Epoch   0 Batch   85/1077 - Train Accuracy:  0.422, Validation Accuracy:  0.452, Loss:  1.340\n",
      "Epoch   0 Batch   86/1077 - Train Accuracy:  0.409, Validation Accuracy:  0.450, Loss:  1.436\n",
      "Epoch   0 Batch   87/1077 - Train Accuracy:  0.421, Validation Accuracy:  0.444, Loss:  1.442\n",
      "Epoch   0 Batch   88/1077 - Train Accuracy:  0.395, Validation Accuracy:  0.442, Loss:  1.406\n",
      "Epoch   0 Batch   89/1077 - Train Accuracy:  0.384, Validation Accuracy:  0.438, Loss:  1.339\n",
      "Epoch   0 Batch   90/1077 - Train Accuracy:  0.377, Validation Accuracy:  0.447, Loss:  1.406\n",
      "Epoch   0 Batch   91/1077 - Train Accuracy:  0.458, Validation Accuracy:  0.449, Loss:  1.217\n",
      "Epoch   0 Batch   92/1077 - Train Accuracy:  0.423, Validation Accuracy:  0.453, Loss:  1.329\n",
      "Epoch   0 Batch   93/1077 - Train Accuracy:  0.394, Validation Accuracy:  0.452, Loss:  1.343\n",
      "Epoch   0 Batch   94/1077 - Train Accuracy:  0.407, Validation Accuracy:  0.450, Loss:  1.264\n",
      "Epoch   0 Batch   95/1077 - Train Accuracy:  0.423, Validation Accuracy:  0.453, Loss:  1.303\n",
      "Epoch   0 Batch   96/1077 - Train Accuracy:  0.421, Validation Accuracy:  0.450, Loss:  1.285\n",
      "Epoch   0 Batch   97/1077 - Train Accuracy:  0.430, Validation Accuracy:  0.449, Loss:  1.268\n",
      "Epoch   0 Batch   98/1077 - Train Accuracy:  0.456, Validation Accuracy:  0.451, Loss:  1.199\n",
      "Epoch   0 Batch   99/1077 - Train Accuracy:  0.363, Validation Accuracy:  0.463, Loss:  1.305\n",
      "Epoch   0 Batch  100/1077 - Train Accuracy:  0.406, Validation Accuracy:  0.464, Loss:  1.243\n",
      "Epoch   0 Batch  101/1077 - Train Accuracy:  0.420, Validation Accuracy:  0.478, Loss:  1.187\n",
      "Epoch   0 Batch  102/1077 - Train Accuracy:  0.459, Validation Accuracy:  0.477, Loss:  1.194\n",
      "Epoch   0 Batch  103/1077 - Train Accuracy:  0.395, Validation Accuracy:  0.480, Loss:  1.293\n",
      "Epoch   0 Batch  104/1077 - Train Accuracy:  0.418, Validation Accuracy:  0.470, Loss:  1.253\n",
      "Epoch   0 Batch  105/1077 - Train Accuracy:  0.436, Validation Accuracy:  0.468, Loss:  1.191\n",
      "Epoch   0 Batch  106/1077 - Train Accuracy:  0.414, Validation Accuracy:  0.460, Loss:  1.305\n",
      "Epoch   0 Batch  107/1077 - Train Accuracy:  0.436, Validation Accuracy:  0.458, Loss:  1.131\n",
      "Epoch   0 Batch  108/1077 - Train Accuracy:  0.482, Validation Accuracy:  0.462, Loss:  1.064\n",
      "Epoch   0 Batch  109/1077 - Train Accuracy:  0.448, Validation Accuracy:  0.480, Loss:  1.163\n",
      "Epoch   0 Batch  110/1077 - Train Accuracy:  0.456, Validation Accuracy:  0.478, Loss:  1.087\n",
      "Epoch   0 Batch  111/1077 - Train Accuracy:  0.425, Validation Accuracy:  0.479, Loss:  1.164\n",
      "Epoch   0 Batch  112/1077 - Train Accuracy:  0.462, Validation Accuracy:  0.503, Loss:  1.163\n",
      "Epoch   0 Batch  113/1077 - Train Accuracy:  0.489, Validation Accuracy:  0.500, Loss:  1.149\n",
      "Epoch   0 Batch  114/1077 - Train Accuracy:  0.476, Validation Accuracy:  0.494, Loss:  1.090\n",
      "Epoch   0 Batch  115/1077 - Train Accuracy:  0.440, Validation Accuracy:  0.486, Loss:  1.165\n",
      "Epoch   0 Batch  116/1077 - Train Accuracy:  0.481, Validation Accuracy:  0.504, Loss:  1.135\n",
      "Epoch   0 Batch  117/1077 - Train Accuracy:  0.440, Validation Accuracy:  0.506, Loss:  1.154\n",
      "Epoch   0 Batch  118/1077 - Train Accuracy:  0.452, Validation Accuracy:  0.510, Loss:  1.189\n",
      "Epoch   0 Batch  119/1077 - Train Accuracy:  0.496, Validation Accuracy:  0.536, Loss:  1.062\n",
      "Epoch   0 Batch  120/1077 - Train Accuracy:  0.479, Validation Accuracy:  0.542, Loss:  1.110\n",
      "Epoch   0 Batch  121/1077 - Train Accuracy:  0.509, Validation Accuracy:  0.542, Loss:  1.059\n",
      "Epoch   0 Batch  122/1077 - Train Accuracy:  0.502, Validation Accuracy:  0.536, Loss:  1.053\n",
      "Epoch   0 Batch  123/1077 - Train Accuracy:  0.502, Validation Accuracy:  0.540, Loss:  1.029\n",
      "Epoch   0 Batch  124/1077 - Train Accuracy:  0.484, Validation Accuracy:  0.538, Loss:  1.097\n",
      "Epoch   0 Batch  125/1077 - Train Accuracy:  0.521, Validation Accuracy:  0.534, Loss:  1.027\n",
      "Epoch   0 Batch  126/1077 - Train Accuracy:  0.512, Validation Accuracy:  0.539, Loss:  0.991\n",
      "Epoch   0 Batch  127/1077 - Train Accuracy:  0.513, Validation Accuracy:  0.538, Loss:  1.026\n",
      "Epoch   0 Batch  128/1077 - Train Accuracy:  0.545, Validation Accuracy:  0.542, Loss:  0.988\n",
      "Epoch   0 Batch  129/1077 - Train Accuracy:  0.522, Validation Accuracy:  0.547, Loss:  1.059\n",
      "Epoch   0 Batch  130/1077 - Train Accuracy:  0.542, Validation Accuracy:  0.549, Loss:  0.973\n",
      "Epoch   0 Batch  131/1077 - Train Accuracy:  0.506, Validation Accuracy:  0.549, Loss:  1.028\n",
      "Epoch   0 Batch  132/1077 - Train Accuracy:  0.481, Validation Accuracy:  0.545, Loss:  1.101\n",
      "Epoch   0 Batch  133/1077 - Train Accuracy:  0.483, Validation Accuracy:  0.554, Loss:  1.035\n",
      "Epoch   0 Batch  134/1077 - Train Accuracy:  0.515, Validation Accuracy:  0.531, Loss:  0.975\n",
      "Epoch   0 Batch  135/1077 - Train Accuracy:  0.492, Validation Accuracy:  0.535, Loss:  1.069\n",
      "Epoch   0 Batch  136/1077 - Train Accuracy:  0.523, Validation Accuracy:  0.528, Loss:  0.999\n",
      "Epoch   0 Batch  137/1077 - Train Accuracy:  0.558, Validation Accuracy:  0.529, Loss:  0.924\n",
      "Epoch   0 Batch  138/1077 - Train Accuracy:  0.523, Validation Accuracy:  0.538, Loss:  0.953\n",
      "Epoch   0 Batch  139/1077 - Train Accuracy:  0.518, Validation Accuracy:  0.533, Loss:  0.997\n",
      "Epoch   0 Batch  140/1077 - Train Accuracy:  0.464, Validation Accuracy:  0.542, Loss:  1.060\n",
      "Epoch   0 Batch  141/1077 - Train Accuracy:  0.484, Validation Accuracy:  0.533, Loss:  1.039\n",
      "Epoch   0 Batch  142/1077 - Train Accuracy:  0.521, Validation Accuracy:  0.534, Loss:  0.940\n",
      "Epoch   0 Batch  143/1077 - Train Accuracy:  0.509, Validation Accuracy:  0.532, Loss:  1.006\n",
      "Epoch   0 Batch  144/1077 - Train Accuracy:  0.450, Validation Accuracy:  0.542, Loss:  1.036\n",
      "Epoch   0 Batch  145/1077 - Train Accuracy:  0.550, Validation Accuracy:  0.533, Loss:  0.988\n",
      "Epoch   0 Batch  146/1077 - Train Accuracy:  0.540, Validation Accuracy:  0.536, Loss:  0.982\n",
      "Epoch   0 Batch  147/1077 - Train Accuracy:  0.496, Validation Accuracy:  0.547, Loss:  1.015\n",
      "Epoch   0 Batch  148/1077 - Train Accuracy:  0.520, Validation Accuracy:  0.554, Loss:  0.974\n",
      "Epoch   0 Batch  149/1077 - Train Accuracy:  0.525, Validation Accuracy:  0.550, Loss:  1.001\n",
      "Epoch   0 Batch  150/1077 - Train Accuracy:  0.563, Validation Accuracy:  0.549, Loss:  0.946\n",
      "Epoch   0 Batch  151/1077 - Train Accuracy:  0.537, Validation Accuracy:  0.543, Loss:  0.922\n",
      "Epoch   0 Batch  152/1077 - Train Accuracy:  0.525, Validation Accuracy:  0.539, Loss:  0.984\n",
      "Epoch   0 Batch  153/1077 - Train Accuracy:  0.506, Validation Accuracy:  0.539, Loss:  0.998\n",
      "Epoch   0 Batch  154/1077 - Train Accuracy:  0.482, Validation Accuracy:  0.539, Loss:  1.017\n",
      "Epoch   0 Batch  155/1077 - Train Accuracy:  0.480, Validation Accuracy:  0.543, Loss:  0.949\n",
      "Epoch   0 Batch  156/1077 - Train Accuracy:  0.490, Validation Accuracy:  0.546, Loss:  0.933\n",
      "Epoch   0 Batch  157/1077 - Train Accuracy:  0.512, Validation Accuracy:  0.550, Loss:  0.947\n",
      "Epoch   0 Batch  158/1077 - Train Accuracy:  0.524, Validation Accuracy:  0.546, Loss:  0.966\n",
      "Epoch   0 Batch  159/1077 - Train Accuracy:  0.535, Validation Accuracy:  0.549, Loss:  0.857\n",
      "Epoch   0 Batch  160/1077 - Train Accuracy:  0.531, Validation Accuracy:  0.550, Loss:  0.905\n",
      "Epoch   0 Batch  161/1077 - Train Accuracy:  0.517, Validation Accuracy:  0.555, Loss:  0.941\n",
      "Epoch   0 Batch  162/1077 - Train Accuracy:  0.517, Validation Accuracy:  0.551, Loss:  0.942\n",
      "Epoch   0 Batch  163/1077 - Train Accuracy:  0.507, Validation Accuracy:  0.555, Loss:  0.983\n",
      "Epoch   0 Batch  164/1077 - Train Accuracy:  0.513, Validation Accuracy:  0.548, Loss:  0.940\n",
      "Epoch   0 Batch  165/1077 - Train Accuracy:  0.477, Validation Accuracy:  0.549, Loss:  0.904\n",
      "Epoch   0 Batch  166/1077 - Train Accuracy:  0.541, Validation Accuracy:  0.551, Loss:  0.915\n",
      "Epoch   0 Batch  167/1077 - Train Accuracy:  0.508, Validation Accuracy:  0.548, Loss:  0.959\n",
      "Epoch   0 Batch  168/1077 - Train Accuracy:  0.496, Validation Accuracy:  0.541, Loss:  0.969\n",
      "Epoch   0 Batch  169/1077 - Train Accuracy:  0.532, Validation Accuracy:  0.542, Loss:  0.909\n",
      "Epoch   0 Batch  170/1077 - Train Accuracy:  0.485, Validation Accuracy:  0.544, Loss:  0.963\n",
      "Epoch   0 Batch  171/1077 - Train Accuracy:  0.536, Validation Accuracy:  0.540, Loss:  0.856\n",
      "Epoch   0 Batch  172/1077 - Train Accuracy:  0.551, Validation Accuracy:  0.538, Loss:  0.835\n",
      "Epoch   0 Batch  173/1077 - Train Accuracy:  0.515, Validation Accuracy:  0.540, Loss:  0.957\n",
      "Epoch   0 Batch  174/1077 - Train Accuracy:  0.529, Validation Accuracy:  0.542, Loss:  0.906\n",
      "Epoch   0 Batch  175/1077 - Train Accuracy:  0.550, Validation Accuracy:  0.537, Loss:  0.903\n",
      "Epoch   0 Batch  176/1077 - Train Accuracy:  0.514, Validation Accuracy:  0.530, Loss:  0.892\n",
      "Epoch   0 Batch  177/1077 - Train Accuracy:  0.491, Validation Accuracy:  0.536, Loss:  0.967\n",
      "Epoch   0 Batch  178/1077 - Train Accuracy:  0.519, Validation Accuracy:  0.539, Loss:  0.892\n",
      "Epoch   0 Batch  179/1077 - Train Accuracy:  0.552, Validation Accuracy:  0.540, Loss:  0.918\n",
      "Epoch   0 Batch  180/1077 - Train Accuracy:  0.504, Validation Accuracy:  0.546, Loss:  0.872\n",
      "Epoch   0 Batch  181/1077 - Train Accuracy:  0.511, Validation Accuracy:  0.539, Loss:  0.897\n",
      "Epoch   0 Batch  182/1077 - Train Accuracy:  0.527, Validation Accuracy:  0.545, Loss:  0.858\n",
      "Epoch   0 Batch  183/1077 - Train Accuracy:  0.512, Validation Accuracy:  0.547, Loss:  0.893\n",
      "Epoch   0 Batch  184/1077 - Train Accuracy:  0.551, Validation Accuracy:  0.547, Loss:  0.834\n",
      "Epoch   0 Batch  185/1077 - Train Accuracy:  0.510, Validation Accuracy:  0.555, Loss:  0.872\n",
      "Epoch   0 Batch  186/1077 - Train Accuracy:  0.527, Validation Accuracy:  0.559, Loss:  0.910\n",
      "Epoch   0 Batch  187/1077 - Train Accuracy:  0.521, Validation Accuracy:  0.562, Loss:  0.858\n",
      "Epoch   0 Batch  188/1077 - Train Accuracy:  0.531, Validation Accuracy:  0.569, Loss:  0.865\n",
      "Epoch   0 Batch  189/1077 - Train Accuracy:  0.550, Validation Accuracy:  0.569, Loss:  0.849\n",
      "Epoch   0 Batch  190/1077 - Train Accuracy:  0.585, Validation Accuracy:  0.566, Loss:  0.837\n",
      "Epoch   0 Batch  191/1077 - Train Accuracy:  0.594, Validation Accuracy:  0.564, Loss:  0.782\n",
      "Epoch   0 Batch  192/1077 - Train Accuracy:  0.584, Validation Accuracy:  0.570, Loss:  0.873\n",
      "Epoch   0 Batch  193/1077 - Train Accuracy:  0.566, Validation Accuracy:  0.573, Loss:  0.824\n",
      "Epoch   0 Batch  194/1077 - Train Accuracy:  0.582, Validation Accuracy:  0.574, Loss:  0.784\n",
      "Epoch   0 Batch  195/1077 - Train Accuracy:  0.530, Validation Accuracy:  0.570, Loss:  0.832\n",
      "Epoch   0 Batch  196/1077 - Train Accuracy:  0.575, Validation Accuracy:  0.568, Loss:  0.830\n",
      "Epoch   0 Batch  197/1077 - Train Accuracy:  0.551, Validation Accuracy:  0.567, Loss:  0.842\n",
      "Epoch   0 Batch  198/1077 - Train Accuracy:  0.575, Validation Accuracy:  0.565, Loss:  0.776\n",
      "Epoch   0 Batch  199/1077 - Train Accuracy:  0.559, Validation Accuracy:  0.578, Loss:  0.819\n",
      "Epoch   0 Batch  200/1077 - Train Accuracy:  0.519, Validation Accuracy:  0.566, Loss:  0.844\n",
      "Epoch   0 Batch  201/1077 - Train Accuracy:  0.539, Validation Accuracy:  0.561, Loss:  0.816\n",
      "Epoch   0 Batch  202/1077 - Train Accuracy:  0.582, Validation Accuracy:  0.564, Loss:  0.834\n",
      "Epoch   0 Batch  203/1077 - Train Accuracy:  0.532, Validation Accuracy:  0.556, Loss:  0.808\n",
      "Epoch   0 Batch  204/1077 - Train Accuracy:  0.545, Validation Accuracy:  0.557, Loss:  0.872\n",
      "Epoch   0 Batch  205/1077 - Train Accuracy:  0.563, Validation Accuracy:  0.554, Loss:  0.842\n",
      "Epoch   0 Batch  206/1077 - Train Accuracy:  0.542, Validation Accuracy:  0.558, Loss:  0.813\n",
      "Epoch   0 Batch  207/1077 - Train Accuracy:  0.517, Validation Accuracy:  0.567, Loss:  0.820\n",
      "Epoch   0 Batch  208/1077 - Train Accuracy:  0.572, Validation Accuracy:  0.585, Loss:  0.796\n",
      "Epoch   0 Batch  209/1077 - Train Accuracy:  0.588, Validation Accuracy:  0.570, Loss:  0.749\n",
      "Epoch   0 Batch  210/1077 - Train Accuracy:  0.587, Validation Accuracy:  0.578, Loss:  0.824\n",
      "Epoch   0 Batch  211/1077 - Train Accuracy:  0.548, Validation Accuracy:  0.575, Loss:  0.804\n",
      "Epoch   0 Batch  212/1077 - Train Accuracy:  0.577, Validation Accuracy:  0.582, Loss:  0.789\n",
      "Epoch   0 Batch  213/1077 - Train Accuracy:  0.568, Validation Accuracy:  0.582, Loss:  0.756\n",
      "Epoch   0 Batch  214/1077 - Train Accuracy:  0.570, Validation Accuracy:  0.596, Loss:  0.786\n",
      "Epoch   0 Batch  215/1077 - Train Accuracy:  0.570, Validation Accuracy:  0.597, Loss:  0.812\n",
      "Epoch   0 Batch  216/1077 - Train Accuracy:  0.571, Validation Accuracy:  0.602, Loss:  0.804\n",
      "Epoch   0 Batch  217/1077 - Train Accuracy:  0.587, Validation Accuracy:  0.602, Loss:  0.773\n",
      "Epoch   0 Batch  218/1077 - Train Accuracy:  0.560, Validation Accuracy:  0.606, Loss:  0.901\n",
      "Epoch   0 Batch  219/1077 - Train Accuracy:  0.623, Validation Accuracy:  0.603, Loss:  0.776\n",
      "Epoch   0 Batch  220/1077 - Train Accuracy:  0.557, Validation Accuracy:  0.589, Loss:  0.780\n",
      "Epoch   0 Batch  221/1077 - Train Accuracy:  0.584, Validation Accuracy:  0.564, Loss:  0.833\n",
      "Epoch   0 Batch  222/1077 - Train Accuracy:  0.524, Validation Accuracy:  0.565, Loss:  0.844\n",
      "Epoch   0 Batch  223/1077 - Train Accuracy:  0.576, Validation Accuracy:  0.563, Loss:  0.756\n",
      "Epoch   0 Batch  224/1077 - Train Accuracy:  0.591, Validation Accuracy:  0.586, Loss:  0.813\n",
      "Epoch   0 Batch  225/1077 - Train Accuracy:  0.582, Validation Accuracy:  0.590, Loss:  0.804\n",
      "Epoch   0 Batch  226/1077 - Train Accuracy:  0.592, Validation Accuracy:  0.603, Loss:  0.791\n",
      "Epoch   0 Batch  227/1077 - Train Accuracy:  0.543, Validation Accuracy:  0.594, Loss:  0.837\n",
      "Epoch   0 Batch  228/1077 - Train Accuracy:  0.625, Validation Accuracy:  0.598, Loss:  0.758\n",
      "Epoch   0 Batch  229/1077 - Train Accuracy:  0.623, Validation Accuracy:  0.592, Loss:  0.782\n",
      "Epoch   0 Batch  230/1077 - Train Accuracy:  0.591, Validation Accuracy:  0.594, Loss:  0.766\n",
      "Epoch   0 Batch  231/1077 - Train Accuracy:  0.582, Validation Accuracy:  0.594, Loss:  0.791\n",
      "Epoch   0 Batch  232/1077 - Train Accuracy:  0.576, Validation Accuracy:  0.596, Loss:  0.804\n",
      "Epoch   0 Batch  233/1077 - Train Accuracy:  0.580, Validation Accuracy:  0.591, Loss:  0.815\n",
      "Epoch   0 Batch  234/1077 - Train Accuracy:  0.622, Validation Accuracy:  0.592, Loss:  0.763\n",
      "Epoch   0 Batch  235/1077 - Train Accuracy:  0.628, Validation Accuracy:  0.597, Loss:  0.704\n",
      "Epoch   0 Batch  236/1077 - Train Accuracy:  0.560, Validation Accuracy:  0.601, Loss:  0.813\n",
      "Epoch   0 Batch  237/1077 - Train Accuracy:  0.610, Validation Accuracy:  0.598, Loss:  0.718\n",
      "Epoch   0 Batch  238/1077 - Train Accuracy:  0.610, Validation Accuracy:  0.602, Loss:  0.789\n",
      "Epoch   0 Batch  239/1077 - Train Accuracy:  0.621, Validation Accuracy:  0.607, Loss:  0.711\n",
      "Epoch   0 Batch  240/1077 - Train Accuracy:  0.618, Validation Accuracy:  0.608, Loss:  0.749\n",
      "Epoch   0 Batch  241/1077 - Train Accuracy:  0.637, Validation Accuracy:  0.605, Loss:  0.727\n",
      "Epoch   0 Batch  242/1077 - Train Accuracy:  0.578, Validation Accuracy:  0.602, Loss:  0.756\n",
      "Epoch   0 Batch  243/1077 - Train Accuracy:  0.533, Validation Accuracy:  0.603, Loss:  0.786\n",
      "Epoch   0 Batch  244/1077 - Train Accuracy:  0.640, Validation Accuracy:  0.610, Loss:  0.714\n",
      "Epoch   0 Batch  245/1077 - Train Accuracy:  0.592, Validation Accuracy:  0.608, Loss:  0.706\n",
      "Epoch   0 Batch  246/1077 - Train Accuracy:  0.592, Validation Accuracy:  0.607, Loss:  0.753\n",
      "Epoch   0 Batch  247/1077 - Train Accuracy:  0.621, Validation Accuracy:  0.607, Loss:  0.705\n",
      "Epoch   0 Batch  248/1077 - Train Accuracy:  0.606, Validation Accuracy:  0.605, Loss:  0.746\n",
      "Epoch   0 Batch  249/1077 - Train Accuracy:  0.587, Validation Accuracy:  0.600, Loss:  0.721\n",
      "Epoch   0 Batch  250/1077 - Train Accuracy:  0.587, Validation Accuracy:  0.605, Loss:  0.696\n",
      "Epoch   0 Batch  251/1077 - Train Accuracy:  0.598, Validation Accuracy:  0.598, Loss:  0.728\n",
      "Epoch   0 Batch  252/1077 - Train Accuracy:  0.593, Validation Accuracy:  0.604, Loss:  0.731\n",
      "Epoch   0 Batch  253/1077 - Train Accuracy:  0.627, Validation Accuracy:  0.599, Loss:  0.713\n",
      "Epoch   0 Batch  254/1077 - Train Accuracy:  0.592, Validation Accuracy:  0.602, Loss:  0.753\n",
      "Epoch   0 Batch  255/1077 - Train Accuracy:  0.586, Validation Accuracy:  0.599, Loss:  0.755\n",
      "Epoch   0 Batch  256/1077 - Train Accuracy:  0.584, Validation Accuracy:  0.607, Loss:  0.791\n",
      "Epoch   0 Batch  257/1077 - Train Accuracy:  0.618, Validation Accuracy:  0.603, Loss:  0.723\n",
      "Epoch   0 Batch  258/1077 - Train Accuracy:  0.612, Validation Accuracy:  0.607, Loss:  0.725\n",
      "Epoch   0 Batch  259/1077 - Train Accuracy:  0.559, Validation Accuracy:  0.604, Loss:  0.739\n",
      "Epoch   0 Batch  260/1077 - Train Accuracy:  0.600, Validation Accuracy:  0.595, Loss:  0.682\n",
      "Epoch   0 Batch  261/1077 - Train Accuracy:  0.564, Validation Accuracy:  0.602, Loss:  0.728\n",
      "Epoch   0 Batch  262/1077 - Train Accuracy:  0.595, Validation Accuracy:  0.603, Loss:  0.724\n",
      "Epoch   0 Batch  263/1077 - Train Accuracy:  0.609, Validation Accuracy:  0.603, Loss:  0.698\n",
      "Epoch   0 Batch  264/1077 - Train Accuracy:  0.595, Validation Accuracy:  0.610, Loss:  0.736\n",
      "Epoch   0 Batch  265/1077 - Train Accuracy:  0.578, Validation Accuracy:  0.616, Loss:  0.721\n",
      "Epoch   0 Batch  266/1077 - Train Accuracy:  0.631, Validation Accuracy:  0.614, Loss:  0.703\n",
      "Epoch   0 Batch  267/1077 - Train Accuracy:  0.575, Validation Accuracy:  0.599, Loss:  0.687\n",
      "Epoch   0 Batch  268/1077 - Train Accuracy:  0.613, Validation Accuracy:  0.598, Loss:  0.724\n",
      "Epoch   0 Batch  269/1077 - Train Accuracy:  0.569, Validation Accuracy:  0.596, Loss:  0.790\n",
      "Epoch   0 Batch  270/1077 - Train Accuracy:  0.571, Validation Accuracy:  0.608, Loss:  0.754\n",
      "Epoch   0 Batch  271/1077 - Train Accuracy:  0.613, Validation Accuracy:  0.599, Loss:  0.711\n",
      "Epoch   0 Batch  272/1077 - Train Accuracy:  0.595, Validation Accuracy:  0.603, Loss:  0.748\n",
      "Epoch   0 Batch  273/1077 - Train Accuracy:  0.588, Validation Accuracy:  0.603, Loss:  0.701\n",
      "Epoch   0 Batch  274/1077 - Train Accuracy:  0.630, Validation Accuracy:  0.587, Loss:  0.713\n",
      "Epoch   0 Batch  275/1077 - Train Accuracy:  0.611, Validation Accuracy:  0.594, Loss:  0.690\n",
      "Epoch   0 Batch  276/1077 - Train Accuracy:  0.595, Validation Accuracy:  0.591, Loss:  0.749\n",
      "Epoch   0 Batch  277/1077 - Train Accuracy:  0.656, Validation Accuracy:  0.587, Loss:  0.659\n",
      "Epoch   0 Batch  278/1077 - Train Accuracy:  0.584, Validation Accuracy:  0.609, Loss:  0.769\n",
      "Epoch   0 Batch  279/1077 - Train Accuracy:  0.598, Validation Accuracy:  0.604, Loss:  0.776\n",
      "Epoch   0 Batch  280/1077 - Train Accuracy:  0.595, Validation Accuracy:  0.602, Loss:  0.751\n",
      "Epoch   0 Batch  281/1077 - Train Accuracy:  0.588, Validation Accuracy:  0.599, Loss:  0.736\n",
      "Epoch   0 Batch  282/1077 - Train Accuracy:  0.561, Validation Accuracy:  0.602, Loss:  0.770\n",
      "Epoch   0 Batch  283/1077 - Train Accuracy:  0.622, Validation Accuracy:  0.594, Loss:  0.726\n",
      "Epoch   0 Batch  284/1077 - Train Accuracy:  0.594, Validation Accuracy:  0.587, Loss:  0.757\n",
      "Epoch   0 Batch  285/1077 - Train Accuracy:  0.654, Validation Accuracy:  0.600, Loss:  0.695\n",
      "Epoch   0 Batch  286/1077 - Train Accuracy:  0.658, Validation Accuracy:  0.603, Loss:  0.673\n",
      "Epoch   0 Batch  287/1077 - Train Accuracy:  0.617, Validation Accuracy:  0.608, Loss:  0.698\n",
      "Epoch   0 Batch  288/1077 - Train Accuracy:  0.591, Validation Accuracy:  0.619, Loss:  0.725\n",
      "Epoch   0 Batch  289/1077 - Train Accuracy:  0.642, Validation Accuracy:  0.621, Loss:  0.701\n",
      "Epoch   0 Batch  290/1077 - Train Accuracy:  0.608, Validation Accuracy:  0.620, Loss:  0.708\n",
      "Epoch   0 Batch  291/1077 - Train Accuracy:  0.579, Validation Accuracy:  0.617, Loss:  0.728\n",
      "Epoch   0 Batch  292/1077 - Train Accuracy:  0.644, Validation Accuracy:  0.607, Loss:  0.686\n",
      "Epoch   0 Batch  293/1077 - Train Accuracy:  0.601, Validation Accuracy:  0.601, Loss:  0.726\n",
      "Epoch   0 Batch  294/1077 - Train Accuracy:  0.651, Validation Accuracy:  0.599, Loss:  0.647\n",
      "Epoch   0 Batch  295/1077 - Train Accuracy:  0.599, Validation Accuracy:  0.602, Loss:  0.740\n",
      "Epoch   0 Batch  296/1077 - Train Accuracy:  0.661, Validation Accuracy:  0.601, Loss:  0.653\n",
      "Epoch   0 Batch  297/1077 - Train Accuracy:  0.622, Validation Accuracy:  0.600, Loss:  0.737\n",
      "Epoch   0 Batch  298/1077 - Train Accuracy:  0.602, Validation Accuracy:  0.598, Loss:  0.766\n",
      "Epoch   0 Batch  299/1077 - Train Accuracy:  0.625, Validation Accuracy:  0.607, Loss:  0.670\n",
      "Epoch   0 Batch  300/1077 - Train Accuracy:  0.616, Validation Accuracy:  0.605, Loss:  0.702\n",
      "Epoch   0 Batch  301/1077 - Train Accuracy:  0.623, Validation Accuracy:  0.597, Loss:  0.679\n",
      "Epoch   0 Batch  302/1077 - Train Accuracy:  0.655, Validation Accuracy:  0.621, Loss:  0.698\n",
      "Epoch   0 Batch  303/1077 - Train Accuracy:  0.609, Validation Accuracy:  0.623, Loss:  0.695\n",
      "Epoch   0 Batch  304/1077 - Train Accuracy:  0.613, Validation Accuracy:  0.614, Loss:  0.655\n",
      "Epoch   0 Batch  305/1077 - Train Accuracy:  0.639, Validation Accuracy:  0.610, Loss:  0.670\n",
      "Epoch   0 Batch  306/1077 - Train Accuracy:  0.629, Validation Accuracy:  0.614, Loss:  0.654\n",
      "Epoch   0 Batch  307/1077 - Train Accuracy:  0.608, Validation Accuracy:  0.603, Loss:  0.672\n",
      "Epoch   0 Batch  308/1077 - Train Accuracy:  0.621, Validation Accuracy:  0.610, Loss:  0.735\n",
      "Epoch   0 Batch  309/1077 - Train Accuracy:  0.654, Validation Accuracy:  0.609, Loss:  0.639\n",
      "Epoch   0 Batch  310/1077 - Train Accuracy:  0.628, Validation Accuracy:  0.623, Loss:  0.715\n",
      "Epoch   0 Batch  311/1077 - Train Accuracy:  0.646, Validation Accuracy:  0.631, Loss:  0.658\n",
      "Epoch   0 Batch  312/1077 - Train Accuracy:  0.640, Validation Accuracy:  0.650, Loss:  0.721\n",
      "Epoch   0 Batch  313/1077 - Train Accuracy:  0.632, Validation Accuracy:  0.643, Loss:  0.669\n",
      "Epoch   0 Batch  314/1077 - Train Accuracy:  0.646, Validation Accuracy:  0.646, Loss:  0.669\n",
      "Epoch   0 Batch  315/1077 - Train Accuracy:  0.654, Validation Accuracy:  0.642, Loss:  0.652\n",
      "Epoch   0 Batch  316/1077 - Train Accuracy:  0.634, Validation Accuracy:  0.641, Loss:  0.644\n",
      "Epoch   0 Batch  317/1077 - Train Accuracy:  0.639, Validation Accuracy:  0.641, Loss:  0.722\n",
      "Epoch   0 Batch  318/1077 - Train Accuracy:  0.630, Validation Accuracy:  0.648, Loss:  0.680\n",
      "Epoch   0 Batch  319/1077 - Train Accuracy:  0.626, Validation Accuracy:  0.631, Loss:  0.677\n",
      "Epoch   0 Batch  320/1077 - Train Accuracy:  0.638, Validation Accuracy:  0.626, Loss:  0.685\n",
      "Epoch   0 Batch  321/1077 - Train Accuracy:  0.634, Validation Accuracy:  0.620, Loss:  0.667\n",
      "Epoch   0 Batch  322/1077 - Train Accuracy:  0.621, Validation Accuracy:  0.616, Loss:  0.638\n",
      "Epoch   0 Batch  323/1077 - Train Accuracy:  0.631, Validation Accuracy:  0.591, Loss:  0.680\n",
      "Epoch   0 Batch  324/1077 - Train Accuracy:  0.611, Validation Accuracy:  0.577, Loss:  0.665\n",
      "Epoch   0 Batch  325/1077 - Train Accuracy:  0.661, Validation Accuracy:  0.612, Loss:  0.641\n",
      "Epoch   0 Batch  326/1077 - Train Accuracy:  0.656, Validation Accuracy:  0.615, Loss:  0.657\n",
      "Epoch   0 Batch  327/1077 - Train Accuracy:  0.622, Validation Accuracy:  0.650, Loss:  0.688\n",
      "Epoch   0 Batch  328/1077 - Train Accuracy:  0.645, Validation Accuracy:  0.658, Loss:  0.669\n",
      "Epoch   0 Batch  329/1077 - Train Accuracy:  0.594, Validation Accuracy:  0.658, Loss:  0.698\n",
      "Epoch   0 Batch  330/1077 - Train Accuracy:  0.657, Validation Accuracy:  0.645, Loss:  0.668\n",
      "Epoch   0 Batch  331/1077 - Train Accuracy:  0.644, Validation Accuracy:  0.641, Loss:  0.668\n",
      "Epoch   0 Batch  332/1077 - Train Accuracy:  0.669, Validation Accuracy:  0.629, Loss:  0.605\n",
      "Epoch   0 Batch  333/1077 - Train Accuracy:  0.637, Validation Accuracy:  0.634, Loss:  0.669\n",
      "Epoch   0 Batch  334/1077 - Train Accuracy:  0.648, Validation Accuracy:  0.618, Loss:  0.667\n",
      "Epoch   0 Batch  335/1077 - Train Accuracy:  0.668, Validation Accuracy:  0.612, Loss:  0.632\n",
      "Epoch   0 Batch  336/1077 - Train Accuracy:  0.642, Validation Accuracy:  0.613, Loss:  0.681\n",
      "Epoch   0 Batch  337/1077 - Train Accuracy:  0.593, Validation Accuracy:  0.610, Loss:  0.695\n",
      "Epoch   0 Batch  338/1077 - Train Accuracy:  0.618, Validation Accuracy:  0.601, Loss:  0.693\n",
      "Epoch   0 Batch  339/1077 - Train Accuracy:  0.664, Validation Accuracy:  0.628, Loss:  0.632\n",
      "Epoch   0 Batch  340/1077 - Train Accuracy:  0.612, Validation Accuracy:  0.632, Loss:  0.669\n",
      "Epoch   0 Batch  341/1077 - Train Accuracy:  0.651, Validation Accuracy:  0.636, Loss:  0.711\n",
      "Epoch   0 Batch  342/1077 - Train Accuracy:  0.624, Validation Accuracy:  0.632, Loss:  0.632\n",
      "Epoch   0 Batch  343/1077 - Train Accuracy:  0.605, Validation Accuracy:  0.636, Loss:  0.671\n",
      "Epoch   0 Batch  344/1077 - Train Accuracy:  0.654, Validation Accuracy:  0.645, Loss:  0.660\n",
      "Epoch   0 Batch  345/1077 - Train Accuracy:  0.650, Validation Accuracy:  0.645, Loss:  0.644\n",
      "Epoch   0 Batch  346/1077 - Train Accuracy:  0.638, Validation Accuracy:  0.631, Loss:  0.652\n",
      "Epoch   0 Batch  347/1077 - Train Accuracy:  0.676, Validation Accuracy:  0.632, Loss:  0.613\n",
      "Epoch   0 Batch  348/1077 - Train Accuracy:  0.654, Validation Accuracy:  0.622, Loss:  0.638\n",
      "Epoch   0 Batch  349/1077 - Train Accuracy:  0.633, Validation Accuracy:  0.624, Loss:  0.654\n",
      "Epoch   0 Batch  350/1077 - Train Accuracy:  0.610, Validation Accuracy:  0.621, Loss:  0.676\n",
      "Epoch   0 Batch  351/1077 - Train Accuracy:  0.618, Validation Accuracy:  0.617, Loss:  0.679\n",
      "Epoch   0 Batch  352/1077 - Train Accuracy:  0.658, Validation Accuracy:  0.615, Loss:  0.631\n",
      "Epoch   0 Batch  353/1077 - Train Accuracy:  0.600, Validation Accuracy:  0.656, Loss:  0.713\n",
      "Epoch   0 Batch  354/1077 - Train Accuracy:  0.609, Validation Accuracy:  0.652, Loss:  0.650\n",
      "Epoch   0 Batch  355/1077 - Train Accuracy:  0.630, Validation Accuracy:  0.662, Loss:  0.650\n",
      "Epoch   0 Batch  356/1077 - Train Accuracy:  0.647, Validation Accuracy:  0.667, Loss:  0.654\n",
      "Epoch   0 Batch  357/1077 - Train Accuracy:  0.650, Validation Accuracy:  0.672, Loss:  0.615\n",
      "Epoch   0 Batch  358/1077 - Train Accuracy:  0.586, Validation Accuracy:  0.634, Loss:  0.682\n",
      "Epoch   0 Batch  359/1077 - Train Accuracy:  0.657, Validation Accuracy:  0.643, Loss:  0.653\n",
      "Epoch   0 Batch  360/1077 - Train Accuracy:  0.639, Validation Accuracy:  0.627, Loss:  0.647\n",
      "Epoch   0 Batch  361/1077 - Train Accuracy:  0.662, Validation Accuracy:  0.626, Loss:  0.668\n",
      "Epoch   0 Batch  362/1077 - Train Accuracy:  0.643, Validation Accuracy:  0.634, Loss:  0.629\n",
      "Epoch   0 Batch  363/1077 - Train Accuracy:  0.622, Validation Accuracy:  0.632, Loss:  0.666\n",
      "Epoch   0 Batch  364/1077 - Train Accuracy:  0.618, Validation Accuracy:  0.611, Loss:  0.656\n",
      "Epoch   0 Batch  365/1077 - Train Accuracy:  0.639, Validation Accuracy:  0.604, Loss:  0.620\n",
      "Epoch   0 Batch  366/1077 - Train Accuracy:  0.633, Validation Accuracy:  0.616, Loss:  0.661\n",
      "Epoch   0 Batch  367/1077 - Train Accuracy:  0.676, Validation Accuracy:  0.613, Loss:  0.572\n",
      "Epoch   0 Batch  368/1077 - Train Accuracy:  0.670, Validation Accuracy:  0.662, Loss:  0.634\n",
      "Epoch   0 Batch  369/1077 - Train Accuracy:  0.662, Validation Accuracy:  0.683, Loss:  0.626\n",
      "Epoch   0 Batch  370/1077 - Train Accuracy:  0.680, Validation Accuracy:  0.642, Loss:  0.608\n",
      "Epoch   0 Batch  371/1077 - Train Accuracy:  0.669, Validation Accuracy:  0.650, Loss:  0.621\n",
      "Epoch   0 Batch  372/1077 - Train Accuracy:  0.682, Validation Accuracy:  0.638, Loss:  0.614\n",
      "Epoch   0 Batch  373/1077 - Train Accuracy:  0.684, Validation Accuracy:  0.638, Loss:  0.586\n",
      "Epoch   0 Batch  374/1077 - Train Accuracy:  0.660, Validation Accuracy:  0.632, Loss:  0.659\n",
      "Epoch   0 Batch  375/1077 - Train Accuracy:  0.675, Validation Accuracy:  0.632, Loss:  0.579\n",
      "Epoch   0 Batch  376/1077 - Train Accuracy:  0.672, Validation Accuracy:  0.631, Loss:  0.586\n",
      "Epoch   0 Batch  377/1077 - Train Accuracy:  0.664, Validation Accuracy:  0.626, Loss:  0.638\n",
      "Epoch   0 Batch  378/1077 - Train Accuracy:  0.660, Validation Accuracy:  0.632, Loss:  0.610\n",
      "Epoch   0 Batch  379/1077 - Train Accuracy:  0.636, Validation Accuracy:  0.635, Loss:  0.651\n",
      "Epoch   0 Batch  380/1077 - Train Accuracy:  0.656, Validation Accuracy:  0.630, Loss:  0.622\n",
      "Epoch   0 Batch  381/1077 - Train Accuracy:  0.654, Validation Accuracy:  0.634, Loss:  0.640\n",
      "Epoch   0 Batch  382/1077 - Train Accuracy:  0.658, Validation Accuracy:  0.638, Loss:  0.649\n",
      "Epoch   0 Batch  383/1077 - Train Accuracy:  0.679, Validation Accuracy:  0.635, Loss:  0.592\n",
      "Epoch   0 Batch  384/1077 - Train Accuracy:  0.659, Validation Accuracy:  0.632, Loss:  0.624\n",
      "Epoch   0 Batch  385/1077 - Train Accuracy:  0.662, Validation Accuracy:  0.631, Loss:  0.628\n",
      "Epoch   0 Batch  386/1077 - Train Accuracy:  0.691, Validation Accuracy:  0.643, Loss:  0.611\n",
      "Epoch   0 Batch  387/1077 - Train Accuracy:  0.694, Validation Accuracy:  0.632, Loss:  0.586\n",
      "Epoch   0 Batch  388/1077 - Train Accuracy:  0.667, Validation Accuracy:  0.637, Loss:  0.603\n",
      "Epoch   0 Batch  389/1077 - Train Accuracy:  0.659, Validation Accuracy:  0.632, Loss:  0.625\n",
      "Epoch   0 Batch  390/1077 - Train Accuracy:  0.620, Validation Accuracy:  0.642, Loss:  0.640\n",
      "Epoch   0 Batch  391/1077 - Train Accuracy:  0.673, Validation Accuracy:  0.648, Loss:  0.602\n",
      "Epoch   0 Batch  392/1077 - Train Accuracy:  0.689, Validation Accuracy:  0.665, Loss:  0.597\n",
      "Epoch   0 Batch  393/1077 - Train Accuracy:  0.675, Validation Accuracy:  0.679, Loss:  0.570\n",
      "Epoch   0 Batch  394/1077 - Train Accuracy:  0.624, Validation Accuracy:  0.674, Loss:  0.620\n",
      "Epoch   0 Batch  395/1077 - Train Accuracy:  0.685, Validation Accuracy:  0.654, Loss:  0.582\n",
      "Epoch   0 Batch  396/1077 - Train Accuracy:  0.642, Validation Accuracy:  0.645, Loss:  0.636\n",
      "Epoch   0 Batch  397/1077 - Train Accuracy:  0.652, Validation Accuracy:  0.653, Loss:  0.607\n",
      "Epoch   0 Batch  398/1077 - Train Accuracy:  0.648, Validation Accuracy:  0.665, Loss:  0.647\n",
      "Epoch   0 Batch  399/1077 - Train Accuracy:  0.600, Validation Accuracy:  0.673, Loss:  0.636\n",
      "Epoch   0 Batch  400/1077 - Train Accuracy:  0.662, Validation Accuracy:  0.670, Loss:  0.607\n",
      "Epoch   0 Batch  401/1077 - Train Accuracy:  0.633, Validation Accuracy:  0.652, Loss:  0.618\n",
      "Epoch   0 Batch  402/1077 - Train Accuracy:  0.686, Validation Accuracy:  0.651, Loss:  0.581\n",
      "Epoch   0 Batch  403/1077 - Train Accuracy:  0.618, Validation Accuracy:  0.641, Loss:  0.642\n",
      "Epoch   0 Batch  404/1077 - Train Accuracy:  0.657, Validation Accuracy:  0.636, Loss:  0.573\n",
      "Epoch   0 Batch  405/1077 - Train Accuracy:  0.664, Validation Accuracy:  0.646, Loss:  0.640\n",
      "Epoch   0 Batch  406/1077 - Train Accuracy:  0.708, Validation Accuracy:  0.660, Loss:  0.594\n",
      "Epoch   0 Batch  407/1077 - Train Accuracy:  0.661, Validation Accuracy:  0.664, Loss:  0.647\n",
      "Epoch   0 Batch  408/1077 - Train Accuracy:  0.660, Validation Accuracy:  0.651, Loss:  0.616\n",
      "Epoch   0 Batch  409/1077 - Train Accuracy:  0.667, Validation Accuracy:  0.654, Loss:  0.616\n",
      "Epoch   0 Batch  410/1077 - Train Accuracy:  0.652, Validation Accuracy:  0.652, Loss:  0.630\n",
      "Epoch   0 Batch  411/1077 - Train Accuracy:  0.690, Validation Accuracy:  0.650, Loss:  0.573\n",
      "Epoch   0 Batch  412/1077 - Train Accuracy:  0.659, Validation Accuracy:  0.652, Loss:  0.588\n",
      "Epoch   0 Batch  413/1077 - Train Accuracy:  0.654, Validation Accuracy:  0.649, Loss:  0.607\n",
      "Epoch   0 Batch  414/1077 - Train Accuracy:  0.626, Validation Accuracy:  0.648, Loss:  0.618\n",
      "Epoch   0 Batch  415/1077 - Train Accuracy:  0.669, Validation Accuracy:  0.649, Loss:  0.590\n",
      "Epoch   0 Batch  416/1077 - Train Accuracy:  0.655, Validation Accuracy:  0.641, Loss:  0.608\n",
      "Epoch   0 Batch  417/1077 - Train Accuracy:  0.661, Validation Accuracy:  0.640, Loss:  0.620\n",
      "Epoch   0 Batch  418/1077 - Train Accuracy:  0.688, Validation Accuracy:  0.661, Loss:  0.573\n",
      "Epoch   0 Batch  419/1077 - Train Accuracy:  0.641, Validation Accuracy:  0.668, Loss:  0.608\n",
      "Epoch   0 Batch  420/1077 - Train Accuracy:  0.692, Validation Accuracy:  0.664, Loss:  0.565\n",
      "Epoch   0 Batch  421/1077 - Train Accuracy:  0.631, Validation Accuracy:  0.662, Loss:  0.602\n",
      "Epoch   0 Batch  422/1077 - Train Accuracy:  0.683, Validation Accuracy:  0.661, Loss:  0.570\n",
      "Epoch   0 Batch  423/1077 - Train Accuracy:  0.690, Validation Accuracy:  0.664, Loss:  0.603\n",
      "Epoch   0 Batch  424/1077 - Train Accuracy:  0.631, Validation Accuracy:  0.640, Loss:  0.602\n",
      "Epoch   0 Batch  425/1077 - Train Accuracy:  0.661, Validation Accuracy:  0.643, Loss:  0.571\n",
      "Epoch   0 Batch  426/1077 - Train Accuracy:  0.627, Validation Accuracy:  0.637, Loss:  0.604\n",
      "Epoch   0 Batch  427/1077 - Train Accuracy:  0.657, Validation Accuracy:  0.638, Loss:  0.577\n",
      "Epoch   0 Batch  428/1077 - Train Accuracy:  0.689, Validation Accuracy:  0.658, Loss:  0.556\n",
      "Epoch   0 Batch  429/1077 - Train Accuracy:  0.688, Validation Accuracy:  0.653, Loss:  0.576\n",
      "Epoch   0 Batch  430/1077 - Train Accuracy:  0.651, Validation Accuracy:  0.650, Loss:  0.571\n",
      "Epoch   0 Batch  431/1077 - Train Accuracy:  0.641, Validation Accuracy:  0.647, Loss:  0.580\n",
      "Epoch   0 Batch  432/1077 - Train Accuracy:  0.689, Validation Accuracy:  0.646, Loss:  0.589\n",
      "Epoch   0 Batch  433/1077 - Train Accuracy:  0.659, Validation Accuracy:  0.645, Loss:  0.601\n",
      "Epoch   0 Batch  434/1077 - Train Accuracy:  0.682, Validation Accuracy:  0.643, Loss:  0.594\n",
      "Epoch   0 Batch  435/1077 - Train Accuracy:  0.640, Validation Accuracy:  0.638, Loss:  0.618\n",
      "Epoch   0 Batch  436/1077 - Train Accuracy:  0.663, Validation Accuracy:  0.637, Loss:  0.550\n",
      "Epoch   0 Batch  437/1077 - Train Accuracy:  0.664, Validation Accuracy:  0.643, Loss:  0.592\n",
      "Epoch   0 Batch  438/1077 - Train Accuracy:  0.657, Validation Accuracy:  0.648, Loss:  0.577\n",
      "Epoch   0 Batch  439/1077 - Train Accuracy:  0.659, Validation Accuracy:  0.653, Loss:  0.594\n",
      "Epoch   0 Batch  440/1077 - Train Accuracy:  0.656, Validation Accuracy:  0.654, Loss:  0.597\n",
      "Epoch   0 Batch  441/1077 - Train Accuracy:  0.655, Validation Accuracy:  0.651, Loss:  0.565\n",
      "Epoch   0 Batch  442/1077 - Train Accuracy:  0.654, Validation Accuracy:  0.638, Loss:  0.546\n",
      "Epoch   0 Batch  443/1077 - Train Accuracy:  0.690, Validation Accuracy:  0.636, Loss:  0.551\n",
      "Epoch   0 Batch  444/1077 - Train Accuracy:  0.666, Validation Accuracy:  0.645, Loss:  0.559\n",
      "Epoch   0 Batch  445/1077 - Train Accuracy:  0.636, Validation Accuracy:  0.636, Loss:  0.594\n",
      "Epoch   0 Batch  446/1077 - Train Accuracy:  0.699, Validation Accuracy:  0.636, Loss:  0.530\n",
      "Epoch   0 Batch  447/1077 - Train Accuracy:  0.659, Validation Accuracy:  0.640, Loss:  0.573\n",
      "Epoch   0 Batch  448/1077 - Train Accuracy:  0.671, Validation Accuracy:  0.644, Loss:  0.607\n",
      "Epoch   0 Batch  449/1077 - Train Accuracy:  0.662, Validation Accuracy:  0.644, Loss:  0.612\n",
      "Epoch   0 Batch  450/1077 - Train Accuracy:  0.696, Validation Accuracy:  0.636, Loss:  0.550\n",
      "Epoch   0 Batch  451/1077 - Train Accuracy:  0.702, Validation Accuracy:  0.637, Loss:  0.540\n",
      "Epoch   0 Batch  452/1077 - Train Accuracy:  0.692, Validation Accuracy:  0.637, Loss:  0.583\n",
      "Epoch   0 Batch  453/1077 - Train Accuracy:  0.673, Validation Accuracy:  0.641, Loss:  0.535\n",
      "Epoch   0 Batch  454/1077 - Train Accuracy:  0.666, Validation Accuracy:  0.651, Loss:  0.567\n",
      "Epoch   0 Batch  455/1077 - Train Accuracy:  0.668, Validation Accuracy:  0.644, Loss:  0.544\n",
      "Epoch   0 Batch  456/1077 - Train Accuracy:  0.664, Validation Accuracy:  0.650, Loss:  0.576\n",
      "Epoch   0 Batch  457/1077 - Train Accuracy:  0.681, Validation Accuracy:  0.656, Loss:  0.522\n",
      "Epoch   0 Batch  458/1077 - Train Accuracy:  0.643, Validation Accuracy:  0.658, Loss:  0.565\n",
      "Epoch   0 Batch  459/1077 - Train Accuracy:  0.709, Validation Accuracy:  0.668, Loss:  0.535\n",
      "Epoch   0 Batch  460/1077 - Train Accuracy:  0.684, Validation Accuracy:  0.663, Loss:  0.585\n",
      "Epoch   0 Batch  461/1077 - Train Accuracy:  0.685, Validation Accuracy:  0.669, Loss:  0.581\n",
      "Epoch   0 Batch  462/1077 - Train Accuracy:  0.682, Validation Accuracy:  0.670, Loss:  0.558\n",
      "Epoch   0 Batch  463/1077 - Train Accuracy:  0.683, Validation Accuracy:  0.656, Loss:  0.573\n",
      "Epoch   0 Batch  464/1077 - Train Accuracy:  0.702, Validation Accuracy:  0.657, Loss:  0.554\n",
      "Epoch   0 Batch  465/1077 - Train Accuracy:  0.661, Validation Accuracy:  0.652, Loss:  0.600\n",
      "Epoch   0 Batch  466/1077 - Train Accuracy:  0.663, Validation Accuracy:  0.658, Loss:  0.540\n",
      "Epoch   0 Batch  467/1077 - Train Accuracy:  0.712, Validation Accuracy:  0.660, Loss:  0.550\n",
      "Epoch   0 Batch  468/1077 - Train Accuracy:  0.684, Validation Accuracy:  0.662, Loss:  0.577\n",
      "Epoch   0 Batch  469/1077 - Train Accuracy:  0.654, Validation Accuracy:  0.662, Loss:  0.573\n",
      "Epoch   0 Batch  470/1077 - Train Accuracy:  0.644, Validation Accuracy:  0.659, Loss:  0.606\n",
      "Epoch   0 Batch  471/1077 - Train Accuracy:  0.702, Validation Accuracy:  0.658, Loss:  0.539\n",
      "Epoch   0 Batch  472/1077 - Train Accuracy:  0.664, Validation Accuracy:  0.657, Loss:  0.521\n",
      "Epoch   0 Batch  473/1077 - Train Accuracy:  0.666, Validation Accuracy:  0.665, Loss:  0.562\n",
      "Epoch   0 Batch  474/1077 - Train Accuracy:  0.696, Validation Accuracy:  0.663, Loss:  0.552\n",
      "Epoch   0 Batch  475/1077 - Train Accuracy:  0.679, Validation Accuracy:  0.667, Loss:  0.540\n",
      "Epoch   0 Batch  476/1077 - Train Accuracy:  0.680, Validation Accuracy:  0.661, Loss:  0.544\n",
      "Epoch   0 Batch  477/1077 - Train Accuracy:  0.719, Validation Accuracy:  0.659, Loss:  0.509\n",
      "Epoch   0 Batch  478/1077 - Train Accuracy:  0.663, Validation Accuracy:  0.653, Loss:  0.586\n",
      "Epoch   0 Batch  479/1077 - Train Accuracy:  0.677, Validation Accuracy:  0.654, Loss:  0.568\n",
      "Epoch   0 Batch  480/1077 - Train Accuracy:  0.668, Validation Accuracy:  0.650, Loss:  0.532\n",
      "Epoch   0 Batch  481/1077 - Train Accuracy:  0.691, Validation Accuracy:  0.651, Loss:  0.562\n",
      "Epoch   0 Batch  482/1077 - Train Accuracy:  0.660, Validation Accuracy:  0.650, Loss:  0.579\n",
      "Epoch   0 Batch  483/1077 - Train Accuracy:  0.674, Validation Accuracy:  0.646, Loss:  0.564\n",
      "Epoch   0 Batch  484/1077 - Train Accuracy:  0.689, Validation Accuracy:  0.662, Loss:  0.543\n",
      "Epoch   0 Batch  485/1077 - Train Accuracy:  0.710, Validation Accuracy:  0.667, Loss:  0.552\n",
      "Epoch   0 Batch  486/1077 - Train Accuracy:  0.691, Validation Accuracy:  0.665, Loss:  0.549\n",
      "Epoch   0 Batch  487/1077 - Train Accuracy:  0.679, Validation Accuracy:  0.656, Loss:  0.546\n",
      "Epoch   0 Batch  488/1077 - Train Accuracy:  0.671, Validation Accuracy:  0.661, Loss:  0.564\n",
      "Epoch   0 Batch  489/1077 - Train Accuracy:  0.675, Validation Accuracy:  0.658, Loss:  0.519\n",
      "Epoch   0 Batch  490/1077 - Train Accuracy:  0.680, Validation Accuracy:  0.654, Loss:  0.550\n",
      "Epoch   0 Batch  491/1077 - Train Accuracy:  0.662, Validation Accuracy:  0.656, Loss:  0.532\n",
      "Epoch   0 Batch  492/1077 - Train Accuracy:  0.677, Validation Accuracy:  0.651, Loss:  0.554\n",
      "Epoch   0 Batch  493/1077 - Train Accuracy:  0.697, Validation Accuracy:  0.659, Loss:  0.514\n",
      "Epoch   0 Batch  494/1077 - Train Accuracy:  0.681, Validation Accuracy:  0.660, Loss:  0.507\n",
      "Epoch   0 Batch  495/1077 - Train Accuracy:  0.692, Validation Accuracy:  0.658, Loss:  0.515\n",
      "Epoch   0 Batch  496/1077 - Train Accuracy:  0.692, Validation Accuracy:  0.673, Loss:  0.537\n",
      "Epoch   0 Batch  497/1077 - Train Accuracy:  0.657, Validation Accuracy:  0.674, Loss:  0.570\n",
      "Epoch   0 Batch  498/1077 - Train Accuracy:  0.711, Validation Accuracy:  0.676, Loss:  0.528\n",
      "Epoch   0 Batch  499/1077 - Train Accuracy:  0.674, Validation Accuracy:  0.664, Loss:  0.505\n",
      "Epoch   0 Batch  500/1077 - Train Accuracy:  0.703, Validation Accuracy:  0.654, Loss:  0.514\n",
      "Epoch   0 Batch  501/1077 - Train Accuracy:  0.666, Validation Accuracy:  0.655, Loss:  0.508\n",
      "Epoch   0 Batch  502/1077 - Train Accuracy:  0.718, Validation Accuracy:  0.661, Loss:  0.525\n",
      "Epoch   0 Batch  503/1077 - Train Accuracy:  0.738, Validation Accuracy:  0.664, Loss:  0.522\n",
      "Epoch   0 Batch  504/1077 - Train Accuracy:  0.665, Validation Accuracy:  0.668, Loss:  0.539\n",
      "Epoch   0 Batch  505/1077 - Train Accuracy:  0.741, Validation Accuracy:  0.671, Loss:  0.462\n",
      "Epoch   0 Batch  506/1077 - Train Accuracy:  0.643, Validation Accuracy:  0.670, Loss:  0.538\n",
      "Epoch   0 Batch  507/1077 - Train Accuracy:  0.650, Validation Accuracy:  0.672, Loss:  0.530\n",
      "Epoch   0 Batch  508/1077 - Train Accuracy:  0.706, Validation Accuracy:  0.663, Loss:  0.503\n",
      "Epoch   0 Batch  509/1077 - Train Accuracy:  0.631, Validation Accuracy:  0.651, Loss:  0.547\n",
      "Epoch   0 Batch  510/1077 - Train Accuracy:  0.658, Validation Accuracy:  0.635, Loss:  0.514\n",
      "Epoch   0 Batch  511/1077 - Train Accuracy:  0.671, Validation Accuracy:  0.643, Loss:  0.534\n",
      "Epoch   0 Batch  512/1077 - Train Accuracy:  0.726, Validation Accuracy:  0.668, Loss:  0.507\n",
      "Epoch   0 Batch  513/1077 - Train Accuracy:  0.679, Validation Accuracy:  0.667, Loss:  0.531\n",
      "Epoch   0 Batch  514/1077 - Train Accuracy:  0.670, Validation Accuracy:  0.662, Loss:  0.546\n",
      "Epoch   0 Batch  515/1077 - Train Accuracy:  0.671, Validation Accuracy:  0.666, Loss:  0.544\n",
      "Epoch   0 Batch  516/1077 - Train Accuracy:  0.695, Validation Accuracy:  0.667, Loss:  0.492\n",
      "Epoch   0 Batch  517/1077 - Train Accuracy:  0.709, Validation Accuracy:  0.670, Loss:  0.518\n",
      "Epoch   0 Batch  518/1077 - Train Accuracy:  0.694, Validation Accuracy:  0.674, Loss:  0.503\n",
      "Epoch   0 Batch  519/1077 - Train Accuracy:  0.692, Validation Accuracy:  0.664, Loss:  0.528\n",
      "Epoch   0 Batch  520/1077 - Train Accuracy:  0.717, Validation Accuracy:  0.666, Loss:  0.486\n",
      "Epoch   0 Batch  521/1077 - Train Accuracy:  0.672, Validation Accuracy:  0.672, Loss:  0.500\n",
      "Epoch   0 Batch  522/1077 - Train Accuracy:  0.648, Validation Accuracy:  0.671, Loss:  0.541\n",
      "Epoch   0 Batch  523/1077 - Train Accuracy:  0.686, Validation Accuracy:  0.678, Loss:  0.544\n",
      "Epoch   0 Batch  524/1077 - Train Accuracy:  0.675, Validation Accuracy:  0.673, Loss:  0.525\n",
      "Epoch   0 Batch  525/1077 - Train Accuracy:  0.688, Validation Accuracy:  0.675, Loss:  0.518\n",
      "Epoch   0 Batch  526/1077 - Train Accuracy:  0.688, Validation Accuracy:  0.674, Loss:  0.521\n",
      "Epoch   0 Batch  527/1077 - Train Accuracy:  0.683, Validation Accuracy:  0.674, Loss:  0.549\n",
      "Epoch   0 Batch  528/1077 - Train Accuracy:  0.681, Validation Accuracy:  0.682, Loss:  0.527\n",
      "Epoch   0 Batch  529/1077 - Train Accuracy:  0.661, Validation Accuracy:  0.679, Loss:  0.514\n",
      "Epoch   0 Batch  530/1077 - Train Accuracy:  0.679, Validation Accuracy:  0.675, Loss:  0.544\n",
      "Epoch   0 Batch  531/1077 - Train Accuracy:  0.691, Validation Accuracy:  0.681, Loss:  0.514\n",
      "Epoch   0 Batch  532/1077 - Train Accuracy:  0.650, Validation Accuracy:  0.690, Loss:  0.547\n",
      "Epoch   0 Batch  533/1077 - Train Accuracy:  0.692, Validation Accuracy:  0.696, Loss:  0.519\n",
      "Epoch   0 Batch  534/1077 - Train Accuracy:  0.672, Validation Accuracy:  0.688, Loss:  0.498\n",
      "Epoch   0 Batch  535/1077 - Train Accuracy:  0.714, Validation Accuracy:  0.684, Loss:  0.503\n",
      "Epoch   0 Batch  536/1077 - Train Accuracy:  0.693, Validation Accuracy:  0.687, Loss:  0.500\n",
      "Epoch   0 Batch  537/1077 - Train Accuracy:  0.699, Validation Accuracy:  0.686, Loss:  0.507\n",
      "Epoch   0 Batch  538/1077 - Train Accuracy:  0.737, Validation Accuracy:  0.684, Loss:  0.462\n",
      "Epoch   0 Batch  539/1077 - Train Accuracy:  0.669, Validation Accuracy:  0.694, Loss:  0.541\n",
      "Epoch   0 Batch  540/1077 - Train Accuracy:  0.683, Validation Accuracy:  0.685, Loss:  0.474\n",
      "Epoch   0 Batch  541/1077 - Train Accuracy:  0.674, Validation Accuracy:  0.680, Loss:  0.500\n",
      "Epoch   0 Batch  542/1077 - Train Accuracy:  0.693, Validation Accuracy:  0.677, Loss:  0.509\n",
      "Epoch   0 Batch  543/1077 - Train Accuracy:  0.711, Validation Accuracy:  0.676, Loss:  0.515\n",
      "Epoch   0 Batch  544/1077 - Train Accuracy:  0.677, Validation Accuracy:  0.677, Loss:  0.497\n",
      "Epoch   0 Batch  545/1077 - Train Accuracy:  0.687, Validation Accuracy:  0.678, Loss:  0.531\n",
      "Epoch   0 Batch  546/1077 - Train Accuracy:  0.664, Validation Accuracy:  0.673, Loss:  0.529\n",
      "Epoch   0 Batch  547/1077 - Train Accuracy:  0.715, Validation Accuracy:  0.675, Loss:  0.502\n",
      "Epoch   0 Batch  548/1077 - Train Accuracy:  0.716, Validation Accuracy:  0.681, Loss:  0.519\n",
      "Epoch   0 Batch  549/1077 - Train Accuracy:  0.659, Validation Accuracy:  0.688, Loss:  0.535\n",
      "Epoch   0 Batch  550/1077 - Train Accuracy:  0.654, Validation Accuracy:  0.689, Loss:  0.516\n",
      "Epoch   0 Batch  551/1077 - Train Accuracy:  0.693, Validation Accuracy:  0.689, Loss:  0.514\n",
      "Epoch   0 Batch  552/1077 - Train Accuracy:  0.720, Validation Accuracy:  0.696, Loss:  0.526\n",
      "Epoch   0 Batch  553/1077 - Train Accuracy:  0.703, Validation Accuracy:  0.690, Loss:  0.522\n",
      "Epoch   0 Batch  554/1077 - Train Accuracy:  0.677, Validation Accuracy:  0.680, Loss:  0.495\n",
      "Epoch   0 Batch  555/1077 - Train Accuracy:  0.726, Validation Accuracy:  0.673, Loss:  0.485\n",
      "Epoch   0 Batch  556/1077 - Train Accuracy:  0.693, Validation Accuracy:  0.671, Loss:  0.485\n",
      "Epoch   0 Batch  557/1077 - Train Accuracy:  0.720, Validation Accuracy:  0.667, Loss:  0.506\n"
     ]
    }
   ],
   "source": [
    "\"\"\"\n",
    "DON'T MODIFY ANYTHING IN THIS CELL\n",
    "\"\"\"\n",
    "import time\n",
    "\n",
    "def get_accuracy(target, logits):\n",
    "    \"\"\"\n",
    "    Calculate accuracy\n",
    "    \"\"\"\n",
    "    max_seq = max(target.shape[1], logits.shape[1])\n",
    "    if max_seq - target.shape[1]:\n",
    "        target = np.pad(\n",
    "            target,\n",
    "            [(0,0),(0,max_seq - target.shape[1])],\n",
    "            'constant')\n",
    "    if max_seq - logits.shape[1]:\n",
    "        logits = np.pad(\n",
    "            logits,\n",
    "            [(0,0),(0,max_seq - logits.shape[1]), (0,0)],\n",
    "            'constant')\n",
    "\n",
    "    return np.mean(np.equal(target, np.argmax(logits, 2)))\n",
    "\n",
    "train_source = source_int_text[batch_size:]\n",
    "train_target = target_int_text[batch_size:]\n",
    "\n",
    "valid_source = helper.pad_sentence_batch(source_int_text[:batch_size])\n",
    "valid_target = helper.pad_sentence_batch(target_int_text[:batch_size])\n",
    "\n",
    "with tf.Session(graph=train_graph) as sess:\n",
    "    sess.run(tf.global_variables_initializer())\n",
    "\n",
    "    for epoch_i in range(epochs):\n",
    "        for batch_i, (source_batch, target_batch) in enumerate(\n",
    "                helper.batch_data(train_source, train_target, batch_size)):\n",
    "            start_time = time.time()\n",
    "            \n",
    "            _, loss = sess.run(\n",
    "                [train_op, cost],\n",
    "                {input_data: source_batch,\n",
    "                 targets: target_batch,\n",
    "                 lr: learning_rate,\n",
    "                 sequence_length: target_batch.shape[1],\n",
    "                 keep_prob: keep_probability})\n",
    "            \n",
    "            batch_train_logits = sess.run(\n",
    "                inference_logits,\n",
    "                {input_data: source_batch, keep_prob: 1.0})\n",
    "            batch_valid_logits = sess.run(\n",
    "                inference_logits,\n",
    "                {input_data: valid_source, keep_prob: 1.0})\n",
    "                \n",
    "            train_acc = get_accuracy(target_batch, batch_train_logits)\n",
    "            valid_acc = get_accuracy(np.array(valid_target), batch_valid_logits)\n",
    "            end_time = time.time()\n",
    "            print('Epoch {:>3} Batch {:>4}/{} - Train Accuracy: {:>6.3f}, Validation Accuracy: {:>6.3f}, Loss: {:>6.3f}'\n",
    "                  .format(epoch_i, batch_i, len(source_int_text) // batch_size, train_acc, valid_acc, loss))\n",
    "\n",
    "    # Save Model\n",
    "    saver = tf.train.Saver()\n",
    "    saver.save(sess, save_path)\n",
    "    print('Model Trained and Saved')"
   ]
  },
  {
   "cell_type": "markdown",
   "metadata": {
    "deletable": true,
    "editable": true
   },
   "source": [
    "### Save Parameters\n",
    "Save the `batch_size` and `save_path` parameters for inference."
   ]
  },
  {
   "cell_type": "code",
   "execution_count": null,
   "metadata": {
    "collapsed": false,
    "deletable": true,
    "editable": true
   },
   "outputs": [],
   "source": [
    "\"\"\"\n",
    "DON'T MODIFY ANYTHING IN THIS CELL\n",
    "\"\"\"\n",
    "# Save parameters for checkpoint\n",
    "helper.save_params(save_path)"
   ]
  },
  {
   "cell_type": "markdown",
   "metadata": {
    "deletable": true,
    "editable": true
   },
   "source": [
    "# Checkpoint"
   ]
  },
  {
   "cell_type": "code",
   "execution_count": null,
   "metadata": {
    "collapsed": false,
    "deletable": true,
    "editable": true
   },
   "outputs": [],
   "source": [
    "\"\"\"\n",
    "DON'T MODIFY ANYTHING IN THIS CELL\n",
    "\"\"\"\n",
    "import tensorflow as tf\n",
    "import numpy as np\n",
    "import helper\n",
    "import problem_unittests as tests\n",
    "\n",
    "_, (source_vocab_to_int, target_vocab_to_int), (source_int_to_vocab, target_int_to_vocab) = helper.load_preprocess()\n",
    "load_path = helper.load_params()"
   ]
  },
  {
   "cell_type": "markdown",
   "metadata": {
    "deletable": true,
    "editable": true
   },
   "source": [
    "## Sentence to Sequence\n",
    "To feed a sentence into the model for translation, you first need to preprocess it.  Implement the function `sentence_to_seq()` to preprocess new sentences.\n",
    "\n",
    "- Convert the sentence to lowercase\n",
    "- Convert words into ids using `vocab_to_int`\n",
    " - Convert words not in the vocabulary, to the `<UNK>` word id."
   ]
  },
  {
   "cell_type": "code",
   "execution_count": 47,
   "metadata": {
    "collapsed": false,
    "deletable": true,
    "editable": true
   },
   "outputs": [
    {
     "name": "stdout",
     "output_type": "stream",
     "text": [
      "Tests Passed\n"
     ]
    }
   ],
   "source": [
    "def sentence_to_seq(sentence, vocab_to_int):\n",
    "    \"\"\"\n",
    "    Convert a sentence to a sequence of ids\n",
    "    :param sentence: String\n",
    "    :param vocab_to_int: Dictionary to go from the words to an id\n",
    "    :return: List of word ids\n",
    "    \"\"\"\n",
    "    return [vocab_to_int.get(word, vocab_to_int['<UNK>']) for word in sentence.lower().split()]\n",
    "\n",
    "\n",
    "\"\"\"\n",
    "DON'T MODIFY ANYTHING IN THIS CELL THAT IS BELOW THIS LINE\n",
    "\"\"\"\n",
    "tests.test_sentence_to_seq(sentence_to_seq)"
   ]
  },
  {
   "cell_type": "markdown",
   "metadata": {
    "deletable": true,
    "editable": true
   },
   "source": [
    "## Translate\n",
    "This will translate `translate_sentence` from English to French."
   ]
  },
  {
   "cell_type": "code",
   "execution_count": null,
   "metadata": {
    "collapsed": false,
    "deletable": true,
    "editable": true
   },
   "outputs": [],
   "source": [
    "translate_sentence = 'he saw a old yellow truck .'\n",
    "\n",
    "\n",
    "\"\"\"\n",
    "DON'T MODIFY ANYTHING IN THIS CELL\n",
    "\"\"\"\n",
    "translate_sentence = sentence_to_seq(translate_sentence, source_vocab_to_int)\n",
    "\n",
    "loaded_graph = tf.Graph()\n",
    "with tf.Session(graph=loaded_graph) as sess:\n",
    "    # Load saved model\n",
    "    loader = tf.train.import_meta_graph(load_path + '.meta')\n",
    "    loader.restore(sess, load_path)\n",
    "\n",
    "    input_data = loaded_graph.get_tensor_by_name('input:0')\n",
    "    logits = loaded_graph.get_tensor_by_name('logits:0')\n",
    "    keep_prob = loaded_graph.get_tensor_by_name('keep_prob:0')\n",
    "\n",
    "    translate_logits = sess.run(logits, {input_data: [translate_sentence], keep_prob: 1.0})[0]\n",
    "\n",
    "print('Input')\n",
    "print('  Word Ids:      {}'.format([i for i in translate_sentence]))\n",
    "print('  English Words: {}'.format([source_int_to_vocab[i] for i in translate_sentence]))\n",
    "\n",
    "print('\\nPrediction')\n",
    "print('  Word Ids:      {}'.format([i for i in np.argmax(translate_logits, 1)]))\n",
    "print('  French Words: {}'.format([target_int_to_vocab[i] for i in np.argmax(translate_logits, 1)]))"
   ]
  },
  {
   "cell_type": "markdown",
   "metadata": {
    "deletable": true,
    "editable": true
   },
   "source": [
    "## Imperfect Translation\n",
    "You might notice that some sentences translate better than others.  Since the dataset you're using only has a vocabulary of 227 English words of the thousands that you use, you're only going to see good results using these words.  For this project, you don't need a perfect translation. However, if you want to create a better translation model, you'll need better data.\n",
    "\n",
    "You can train on the [WMT10 French-English corpus](http://www.statmt.org/wmt10/training-giga-fren.tar).  This dataset has more vocabulary and richer in topics discussed.  However, this will take you days to train, so make sure you've a GPU and the neural network is performing well on dataset we provided.  Just make sure you play with the WMT10 corpus after you've submitted this project.\n",
    "## Submitting This Project\n",
    "When submitting this project, make sure to run all the cells before saving the notebook. Save the notebook file as \"dlnd_language_translation.ipynb\" and save it as a HTML file under \"File\" -> \"Download as\". Include the \"helper.py\" and \"problem_unittests.py\" files in your submission."
   ]
  }
 ],
 "metadata": {
  "kernelspec": {
   "display_name": "Python 3",
   "language": "python",
   "name": "python3"
  },
  "language_info": {
   "codemirror_mode": {
    "name": "ipython",
    "version": 3
   },
   "file_extension": ".py",
   "mimetype": "text/x-python",
   "name": "python",
   "nbconvert_exporter": "python",
   "pygments_lexer": "ipython3",
   "version": "3.5.2"
  }
 },
 "nbformat": 4,
 "nbformat_minor": 0
}
